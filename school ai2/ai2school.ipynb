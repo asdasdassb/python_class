{
 "cells": [
  {
   "cell_type": "code",
   "execution_count": 4,
   "metadata": {},
   "outputs": [
    {
     "name": "stdout",
     "output_type": "stream",
     "text": [
      "1,3,5,7,9 \n",
      " 25 \n",
      " 5\n"
     ]
    }
   ],
   "source": [
    "counter=0\n",
    "ans=[]\n",
    "s=0\n",
    "a=int(input(\"輸入初始值\"))\n",
    "b=int(input(\"輸入終止值\"))\n",
    "c=int(input(\"輸入增量值\"))\n",
    "for i in range(a,b,c):\n",
    "    ans.append(str(i))\n",
    "    s=s+i\n",
    "    counter+=1\n",
    "strans=','.join(ans)\n",
    "print(strans,'\\n',s,'\\n',counter)"
   ]
  },
  {
   "cell_type": "code",
   "execution_count": 5,
   "metadata": {},
   "outputs": [
    {
     "name": "stdout",
     "output_type": "stream",
     "text": [
      "1,2,3,4,5,6,7,8,9,10 \n",
      " 55 \n",
      " 10\n"
     ]
    }
   ],
   "source": [
    "counter=0\n",
    "ans=[]\n",
    "s=0\n",
    "ee=0\n",
    "a=int(input(\"輸入初始值\"))\n",
    "b=int(input(\"輸入終止值\"))\n",
    "c=int(input(\"輸入增量值\"))\n",
    "ee=a\n",
    "while ee<=b:\n",
    "    \n",
    "    ans.append(str(ee))\n",
    "    s=s+ee\n",
    "    counter+=1\n",
    "    ee+=c\n",
    "strans=','.join(ans)\n",
    "print(strans,'\\n',s,'\\n',counter)"
   ]
  },
  {
   "cell_type": "code",
   "execution_count": 3,
   "metadata": {},
   "outputs": [
    {
     "data": {
      "text/plain": [
       "'2,4,8'"
      ]
     },
     "execution_count": 3,
     "metadata": {},
     "output_type": "execute_result"
    }
   ],
   "source": [
    "lst = ['2','4','8']\n",
    "strlst = \",\".join(lst)\n",
    "strlst"
   ]
  }
 ],
 "metadata": {
  "kernelspec": {
   "display_name": "Python 3.7.9 ('pythonenv')",
   "language": "python",
   "name": "python3"
  },
  "language_info": {
   "codemirror_mode": {
    "name": "ipython",
    "version": 3
   },
   "file_extension": ".py",
   "mimetype": "text/x-python",
   "name": "python",
   "nbconvert_exporter": "python",
   "pygments_lexer": "ipython3",
   "version": "3.7.9"
  },
  "orig_nbformat": 4,
  "vscode": {
   "interpreter": {
    "hash": "c2eae4f751eff5ab2a394be4823427468fe69f4432d99d1754359392474473bf"
   }
  }
 },
 "nbformat": 4,
 "nbformat_minor": 2
}
