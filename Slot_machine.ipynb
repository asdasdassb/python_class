{
 "cells": [
  {
   "cell_type": "code",
   "execution_count": 2,
   "metadata": {},
   "outputs": [],
   "source": [
    "from tkinter import *\n",
    "from tkinter import messagebox\n",
    "import subprocess as sp\n",
    "from tkinter import filedialog as fd\n",
    "from PIL import Image, ImageTk\n",
    "import random\n"
   ]
  },
  {
   "cell_type": "code",
   "execution_count": 8,
   "metadata": {},
   "outputs": [],
   "source": [
    "def create_fig(path):\n",
    "    image1 = Image.open(path)\n",
    "    image1 = image1.resize((50, 50), Image.ANTIALIAS)\n",
    "    photoimg = ImageTk.PhotoImage(image1)\n",
    "    return photoimg\n",
    "\n",
    "def random_fig():\n",
    "    global path1, path2, path3\n",
    "    pic_list = ['img/apple.png', 'img/banana.png', 'img/cherry.png']   \n",
    "    path1 = random.choice(pic_list)\n",
    "    path2 = random.choice(pic_list)\n",
    "    path3 = random.choice(pic_list)\n",
    "    print(path1, path2, path3)"
   ]
  },
  {
   "cell_type": "code",
   "execution_count": 12,
   "metadata": {},
   "outputs": [],
   "source": [
    "win1 = Tk()\n",
    "win1.title(\"LOGIN\")\n",
    "win1.geometry(\"350x130\")\n",
    "\n",
    "Label1 = Label(win1, text=\"水果盤\", font=\"Arial 15\", width=31, bg=\"lightyellow\")\n",
    "btn1 = Button(win1, text=\"確認\", font=\"Arial 15\", width=31, command=random_fig)\n",
    "\n",
    "path1 = \"img/apple.png\"\n",
    "path2 = \"img/banana.png\"\n",
    "path3 = \"img/cherry.png\"\n",
    "\n",
    "pic1 = create_fig(path1)\n",
    "pic2 = create_fig(path2)\n",
    "pic3 = create_fig(path3)\n",
    "Label2 = Label(image=pic1)\n",
    "Label3 = Label(image=pic2)\n",
    "Label4 = Label(image=pic3)\n",
    "Label1.grid(column=1, row=1)\n",
    "Label2.grid(column=0, row=2)\n",
    "Label3.grid(column=1, row=2)\n",
    "Label4.grid(column=2, row=2)\n",
    "\n",
    "btn1.grid(column=1, row=3)\n",
    "\n",
    "\n",
    "win1.mainloop()\n"
   ]
  },
  {
   "cell_type": "code",
   "execution_count": 9,
   "metadata": {},
   "outputs": [
    {
     "name": "stdout",
     "output_type": "stream",
     "text": [
      "img/apple.png img/apple.png img/apple.png\n",
      "img/apple.png\n",
      "img/apple.png img/banana.png img/banana.png\n",
      "img/apple.png\n",
      "img/banana.png img/banana.png img/cherry.png\n",
      "img/apple.png\n",
      "img/banana.png img/apple.png img/cherry.png\n",
      "img/apple.png\n",
      "img/apple.png img/banana.png img/banana.png\n",
      "img/apple.png\n"
     ]
    }
   ],
   "source": [
    "class MAIN():\n",
    "    def __init__(self,master,**kwargs):\n",
    "        self.master = master\n",
    "        self.pic_list = ['img/apple.png', 'img/banana.png', 'img/cherry.png']\n",
    "        Label(self.master, text=\"水果盤\", font=\"Arial 15\",\n",
    "              width=31, bg=\"lightyellow\").grid(column=1, row=1)\n",
    "        path1, path2, path3 = self.pic_list\n",
    "        self.set_pic(path1,path2,path3)\n",
    "\n",
    "        btn1 = Button(win1, text=\"確認\", font=\"Arial 15\", width=31,command=self.refresh_clicked).grid(column=1, row=3)\n",
    "\n",
    "    def set_pic(self,path1,path2,path3):\n",
    "        self.pic1 = self.create_fig(path1)\n",
    "        self.pic2 = self.create_fig(path2)\n",
    "        self.pic3 = self.create_fig(path3)\n",
    "        self.Label2 = Label(self.master, image=self.pic1).grid(column=0, row=2)\n",
    "        self.Label3 = Label(self.master, image=self.pic2).grid(column=1, row=2)\n",
    "        self.Label4 = Label(self.master, image=self.pic3).grid(column=2, row=2)\n",
    "    \n",
    "    def create_fig(self,path):\n",
    "        image1 = Image.open(path)\n",
    "        image1 = image1.resize((50, 50), Image.ANTIALIAS)\n",
    "        photoimg = ImageTk.PhotoImage(image1)\n",
    "        return photoimg\n",
    "\n",
    "    def refresh_clicked(self):\n",
    "        #update labels here\n",
    "        \n",
    "        path1 = random.choice(self.pic_list)\n",
    "        path2 = random.choice(self.pic_list)\n",
    "        path3 = random.choice(self.pic_list)\n",
    "        \n",
    "        self.set_pic(path1, path2, path3)\n",
    "        print(path1, path2, path3)\n",
    "        print(self.pic_list[0])\n",
    "        self.lottery(path1, path2, path3)\n",
    "\n",
    "    def lottery(self, path1, path2, path3):\n",
    "        if path1 == path2 == path3 == self.pic_list[0]:\n",
    "            messagebox.showinfo('中獎了', '恭喜您獲得獎金500萬')\n",
    "        elif path1 == path2 == path3 == self.pic_list[1]:\n",
    "            messagebox.showinfo('中獎了', '恭喜您獲得獎金700萬')\n",
    "        elif path1 == path2 == path3 == self.pic_list[2]:\n",
    "            messagebox.showinfo('中獎了', '恭喜您獲得獎金1000萬')\n",
    "        else:\n",
    "            messagebox.showinfo('未中獎', '您破產了')\n",
    "win1 = Tk()\n",
    "win1.title(\"SLOT MACHINE\")\n",
    "app = MAIN(win1)\n",
    "win1.mainloop()\n"
   ]
  },
  {
   "cell_type": "code",
   "execution_count": 13,
   "metadata": {},
   "outputs": [],
   "source": [
    "import tkinter as tk\n",
    "class MAIN(object):\n",
    "    def __init__(self, master, **kwargs):\n",
    "        self.frame = tk.Frame(master, borderwidth=5)\n",
    "        self.frame.grid()\n",
    "        self.et1 = tk.Entry(self.frame)\n",
    "        self.et1.insert(0, 10)\n",
    "        self.et1.grid(row=0, column=0, sticky=tk.W)\n",
    "        self.label_contents = tk.StringVar()\n",
    "        self.label_contents.set(self.et1.get())\n",
    "        tk.Label(self.frame, textvariable=self.label_contents).grid(\n",
    "            row=1, column=0, sticky=tk.W)\n",
    "        refresh = tk.Button(self.frame, text='Refresh',\n",
    "                            command=self.refresh_clicked)\n",
    "        refresh.grid(row=2, column=0, sticky=tk.W)\n",
    "\n",
    "    #per comments:\n",
    "    def refresh_clicked(self):\n",
    "        #update labels here\n",
    "        self.label_contents.set(self.et1.get())\n",
    "        tk.Label(self.frame, textvariable=self.label_contents).grid(\n",
    "            row=1, column=0, sticky=tk.W)\n",
    "root=tk.Tk()\n",
    "app=MAIN(root)\n",
    "root.mainloop()\n"
   ]
  }
 ],
 "metadata": {
  "kernelspec": {
   "display_name": "Python 3.7.9 ('pythonenv')",
   "language": "python",
   "name": "python3"
  },
  "language_info": {
   "codemirror_mode": {
    "name": "ipython",
    "version": 3
   },
   "file_extension": ".py",
   "mimetype": "text/x-python",
   "name": "python",
   "nbconvert_exporter": "python",
   "pygments_lexer": "ipython3",
   "version": "3.7.9"
  },
  "orig_nbformat": 4,
  "vscode": {
   "interpreter": {
    "hash": "c2eae4f751eff5ab2a394be4823427468fe69f4432d99d1754359392474473bf"
   }
  }
 },
 "nbformat": 4,
 "nbformat_minor": 2
}
