{
 "cells": [
  {
   "cell_type": "code",
   "execution_count": 1,
   "metadata": {},
   "outputs": [],
   "source": [
    "import sys\n"
   ]
  },
  {
   "cell_type": "code",
   "execution_count": 14,
   "metadata": {},
   "outputs": [
    {
     "name": "stdout",
     "output_type": "stream",
     "text": [
      "原始多項式: \n",
      "A=3X^4 + 8X^3 + 4X^2 + 2X + 11\n",
      "\n",
      "B=6X^3 + 6X + 11\n",
      "\n",
      "多像是相加結果:\n",
      "C=3X^4 + 14X^3 + 4X^2 + 8X + 22\n",
      "\n"
     ]
    }
   ],
   "source": [
    "from hashlib import new\n",
    "\n",
    "\n",
    "class LinkedList:\n",
    "    def __init__(self):\n",
    "        self.coef=0\n",
    "        self.exp=0\n",
    "        self.next=None\n",
    "\n",
    "def create_link(data):\n",
    "    for i in range(len(data)):\n",
    "        newnode=LinkedList()\n",
    "        if not newnode:\n",
    "            print('Error!! 記憶體配置失敗!!')\n",
    "            sys.exit(0)\n",
    "        if i==0:\n",
    "            newnode.coef=data[i]\n",
    "            newnode.exp=len(data)-1-i\n",
    "            newnode.next=None\n",
    "            head=newnode\n",
    "            ptr=head\n",
    "        else:\n",
    "            newnode.coef=data[i]\n",
    "            newnode.exp = len(data)-1-i\n",
    "            newnode.next=None\n",
    "            ptr.next=newnode\n",
    "            ptr=newnode\n",
    "    return head\n",
    "def print_link(head):\n",
    "    while head !=None:\n",
    "        if head.exp==1 and head.coef!=0:\n",
    "            print(\"%dX + \" %(head.coef), end='')\n",
    "        elif head.exp != 0 and head.coef != 0:\n",
    "            print(\"%dX^%d + \" % (head.coef,head.exp), end='')\n",
    "        elif head.coef!=0:\n",
    "            print(\"%d\" %(head.coef))\n",
    "        head=head.next\n",
    "    print()\n",
    "\n",
    "def sum_link(a,b,c,d):\n",
    "    i=0\n",
    "    ptr=b\n",
    "    l = max([c,d])\n",
    "    plus=[None]*l\n",
    "    while a!=None:\n",
    "        if a.exp==b.exp:\n",
    "            plus[i]=a.coef+b.coef\n",
    "            a=a.next\n",
    "            b=b.next\n",
    "            i=i+1\n",
    "        elif b.exp>a.exp:\n",
    "            plus[i]=b.coef\n",
    "            b=b.next\n",
    "            i=i+1\n",
    "        elif a.exp>b.exp:\n",
    "            plus[i]=a.coef\n",
    "            a=a.next\n",
    "            i=i+1\n",
    "    return create_link(plus)\n",
    "\n",
    "def main():\n",
    "    data1=[3,8,4,2,11]\n",
    "    data2=[6,0,6,11]\n",
    "    c=len(data1)\n",
    "    d=len(data2) \n",
    "    print('原始多項式: \\nA=',end='')\n",
    "\n",
    "    a=create_link(data1)\n",
    "    b=create_link(data2)\n",
    "    print_link(a)\n",
    "    print(\"B=\",end='')\n",
    "    print_link(b)\n",
    "    print(\"多像是相加結果:\\nC=\",end='')\n",
    "    print_link(sum_link(a,b,c,d))\n",
    "\n",
    "main()\n"
   ]
  }
 ],
 "metadata": {
  "kernelspec": {
   "display_name": "Python 3.7.9 ('pythonenv')",
   "language": "python",
   "name": "python3"
  },
  "language_info": {
   "codemirror_mode": {
    "name": "ipython",
    "version": 3
   },
   "file_extension": ".py",
   "mimetype": "text/x-python",
   "name": "python",
   "nbconvert_exporter": "python",
   "pygments_lexer": "ipython3",
   "version": "3.7.9"
  },
  "orig_nbformat": 4,
  "vscode": {
   "interpreter": {
    "hash": "c2eae4f751eff5ab2a394be4823427468fe69f4432d99d1754359392474473bf"
   }
  }
 },
 "nbformat": 4,
 "nbformat_minor": 2
}
