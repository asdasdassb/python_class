{
 "cells": [
  {
   "cell_type": "code",
   "execution_count": 2,
   "metadata": {},
   "outputs": [
    {
     "name": "stdout",
     "output_type": "stream",
     "text": [
      "-----向右走訪所有節點-----\n",
      "\n",
      "姓名:13213\t學號:1233213\t數學成績:123132\t英文成績:1231325\n",
      "姓名:1561651\t學號:231356\t數學成績:56165\t英文成績:48561465\n",
      "-----向左走訪所有節點-----\n",
      "姓名:1561651\t學號:231356\t數學成績:56165\t英文成績:48561465\n",
      "姓名:13213\t學號:1233213\t數學成績:123132\t英文成績:1231325\n"
     ]
    }
   ],
   "source": [
    "from email import header\n",
    "from operator import ne\n",
    "\n",
    "\n",
    "select = 0\n",
    "\n",
    "\n",
    "class student:\n",
    "    def __init__(self):\n",
    "        self.name = ''\n",
    "        self.Math = 0\n",
    "        self.Eng = 0\n",
    "        self.no = ''\n",
    "        self.rlink = None\n",
    "        self.llink = None\n",
    "\n",
    "\n",
    "head = student()\n",
    "head.llink = None\n",
    "head.rlink = None\n",
    "ptr = head\n",
    "select = 0\n",
    "while True:\n",
    "    select = int(input('(1)新增 (2)離開 =>'))\n",
    "    if select == 2:\n",
    "        break\n",
    "    new_data = student()\n",
    "    new_data.name = input(('姓名: '))\n",
    "    new_data.no = input('學號: ')\n",
    "    new_data.Math = eval(input('數學成績: '))\n",
    "    new_data.Eng = eval(input('英文成績: '))\n",
    "\n",
    "    ptr.rlink = new_data\n",
    "    new_data.rlink = None\n",
    "    new_data.llink = ptr\n",
    "    ptr = new_data\n",
    "\n",
    "print('-----向右走訪所有節點-----')\n",
    "\n",
    "ptr = head.rlink\n",
    "print()\n",
    "while ptr != None:\n",
    "    print('姓名:%s\\t學號:%s\\t數學成績:%d\\t英文成績:%d' %\n",
    "          (ptr.name, ptr.no, ptr.Math, ptr.Eng))\n",
    "    if ptr.rlink==None:\n",
    "        break \n",
    "    ptr = ptr.rlink\n",
    "\n",
    "print('-----向左走訪所有節點-----')\n",
    "while ptr != None:\n",
    "    print('姓名:%s\\t學號:%s\\t數學成績:%d\\t英文成績:%d' %\n",
    "          (ptr.name, ptr.no, ptr.Math, ptr.Eng))\n",
    "    if ptr.llink==head:\n",
    "        break\n",
    "    ptr=ptr.llink\n"
   ]
  }
 ],
 "metadata": {
  "kernelspec": {
   "display_name": "Python 3.7.9 ('pythonenv')",
   "language": "python",
   "name": "python3"
  },
  "language_info": {
   "codemirror_mode": {
    "name": "ipython",
    "version": 3
   },
   "file_extension": ".py",
   "mimetype": "text/x-python",
   "name": "python",
   "nbconvert_exporter": "python",
   "pygments_lexer": "ipython3",
   "version": "3.7.9"
  },
  "orig_nbformat": 4,
  "vscode": {
   "interpreter": {
    "hash": "c2eae4f751eff5ab2a394be4823427468fe69f4432d99d1754359392474473bf"
   }
  }
 },
 "nbformat": 4,
 "nbformat_minor": 2
}
