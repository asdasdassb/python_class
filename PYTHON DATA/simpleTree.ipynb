{
 "cells": [
  {
   "cell_type": "code",
   "execution_count": 1,
   "metadata": {},
   "outputs": [
    {
     "name": "stdout",
     "output_type": "stream",
     "text": [
      "左子樹:\n",
      "3\n",
      "1\n",
      "-------------------------------------\n",
      "右子樹\n",
      "6\n",
      "24\n",
      "\n"
     ]
    }
   ],
   "source": [
    "class Tree():\n",
    "    def __init__(self):\n",
    "        self.data=0\n",
    "        self.left=None\n",
    "        self.right=None\n",
    "def create_Tree(root,val):\n",
    "    newnode=Tree()\n",
    "    newnode.data=val\n",
    "    newnode.left=None\n",
    "    newnode.right=None\n",
    "    if root==None:\n",
    "        root=newnode\n",
    "        return root\n",
    "    else:\n",
    "        current=root\n",
    "        while current!=None:\n",
    "            backup=current\n",
    "            if current.data > val:\n",
    "                current=current.left\n",
    "            else:\n",
    "                current=current.right\n",
    "        if backup.data>val:\n",
    "            backup.left=newnode\n",
    "        else:\n",
    "            backup.right=newnode\n",
    "    return root\n",
    "\n",
    "data=[5,6,24,8,12,3,17,1,9]\n",
    "ptr=None\n",
    "for i in range(len(data)):\n",
    "    ptr=create_Tree(ptr,data[i])\n",
    "print('左子樹:')\n",
    "root=ptr.left\n",
    "while root!=None:\n",
    "    print('%d'  %root.data)\n",
    "    root=root.left\n",
    "print('-------------------------------------')\n",
    "print('右子樹')\n",
    "root=ptr.right\n",
    "while root != None:\n",
    "    print('%d' % root.data)\n",
    "    root = root.right\n",
    "print()\n",
    "\n"
   ]
  }
 ],
 "metadata": {
  "kernelspec": {
   "display_name": "Python 3.7.9 ('pythonenv')",
   "language": "python",
   "name": "python3"
  },
  "language_info": {
   "codemirror_mode": {
    "name": "ipython",
    "version": 3
   },
   "file_extension": ".py",
   "mimetype": "text/x-python",
   "name": "python",
   "nbconvert_exporter": "python",
   "pygments_lexer": "ipython3",
   "version": "3.7.9"
  },
  "orig_nbformat": 4,
  "vscode": {
   "interpreter": {
    "hash": "c2eae4f751eff5ab2a394be4823427468fe69f4432d99d1754359392474473bf"
   }
  }
 },
 "nbformat": 4,
 "nbformat_minor": 2
}
