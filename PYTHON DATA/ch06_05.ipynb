{
 "cells": [
  {
   "cell_type": "code",
   "execution_count": 1,
   "metadata": {},
   "outputs": [],
   "source": [
    "class tree:\n",
    "    def __init__(self):\n",
    "        self.data = 0\n",
    "        self.left = None\n",
    "        self.right = None\n",
    "\n",
    "\n",
    "def create_tree(root, val):\n",
    "    newnode = tree()\n",
    "    newnode.data = val\n",
    "    newnode.left = None\n",
    "    newnode.right = None\n",
    "\n",
    "    if root == None:\n",
    "        root = newnode\n",
    "        return root\n",
    "    else:\n",
    "        current = root\n",
    "        while current != None:\n",
    "            backup = current\n",
    "            if current.data > val:\n",
    "                current = current.left\n",
    "            else:\n",
    "                current = current.right\n",
    "        if backup.data > val:\n",
    "            backup.left = newnode\n",
    "        else:\n",
    "            backup.right = newnode\n",
    "    return root\n",
    "\n",
    "def search(ptr,val):\n",
    "    i=1\n",
    "    while True:\n",
    "        if ptr == None:\n",
    "            return None\n",
    "        if ptr.data==val:\n",
    "            print(\"共搜尋 %3d次\" %i)\n",
    "            return ptr\n",
    "        elif ptr.data>val:\n",
    "            ptr=ptr.left\n",
    "        else:\n",
    "            ptr=ptr.right\n",
    "        i+=1\n",
    "\n",
    "\n",
    "def inorder(ptr):\n",
    "    if ptr != None:\n",
    "        inorder(ptr.left)\n",
    "        print('[%2d])' % ptr.data, end='')\n",
    "        inorder(ptr.right)\n"
   ]
  },
  {
   "cell_type": "code",
   "execution_count": 2,
   "metadata": {},
   "outputs": [
    {
     "name": "stdout",
     "output_type": "stream",
     "text": [
      "[原始陣列內容]\n",
      "[ 7] [ 1] [ 4] [ 2] [ 8] [13] [12] [11] [15] [ 9] [ 5] \n",
      "共搜尋   4次\n",
      "妳要找的值 [  5] 有找到!!\n"
     ]
    }
   ],
   "source": [
    "arr=[7,1,4,2,8,13,12,11,15,9,5]\n",
    "ptr=None\n",
    "print('[原始陣列內容]')\n",
    "for i in range(len(arr)):\n",
    "    ptr=create_tree(ptr,arr[i])\n",
    "    print('[%2d] ' %arr[i],end='')\n",
    "print()\n",
    "data=int(input(\"請輸入搜尋值:\"))\n",
    "if search(ptr,data) !=None:\n",
    "    print('妳要找的值 [%3d] 有找到!!' %data)\n",
    "else:\n",
    "    ptr=create_tree(ptr,data)\n",
    "    inorder(ptr)"
   ]
  }
 ],
 "metadata": {
  "kernelspec": {
   "display_name": "Python 3.7.9 ('pythonenv')",
   "language": "python",
   "name": "python3"
  },
  "language_info": {
   "codemirror_mode": {
    "name": "ipython",
    "version": 3
   },
   "file_extension": ".py",
   "mimetype": "text/x-python",
   "name": "python",
   "nbconvert_exporter": "python",
   "pygments_lexer": "ipython3",
   "version": "3.7.9"
  },
  "orig_nbformat": 4,
  "vscode": {
   "interpreter": {
    "hash": "c2eae4f751eff5ab2a394be4823427468fe69f4432d99d1754359392474473bf"
   }
  }
 },
 "nbformat": 4,
 "nbformat_minor": 2
}
