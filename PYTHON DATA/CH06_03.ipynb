{
 "cells": [
  {
   "cell_type": "code",
   "execution_count": 6,
   "metadata": {},
   "outputs": [
    {
     "name": "stdout",
     "output_type": "stream",
     "text": [
      "==================================\n",
      "排序完成結果:\n",
      "[ 1])[ 3])[ 5])[ 6])[ 8])[ 9])[12])[17])[24])\n",
      "[ 1])[ 3])[ 9])[17])[12])[ 8])[24])[ 6])[ 5])\n",
      "[ 5])[ 3])[ 1])[ 6])[24])[ 8])[12])[ 9])[17])\n"
     ]
    }
   ],
   "source": [
    "class tree:\n",
    "    def __init__(self):\n",
    "        self.data=0\n",
    "        self.left=None\n",
    "        self.right=None\n",
    "\n",
    "def inorder(ptr):\n",
    "    if ptr!=None:\n",
    "        inorder(ptr.left)\n",
    "        print('[%2d])' %ptr.data, end='')\n",
    "        inorder(ptr.right)\n",
    "\n",
    "\n",
    "def postorder(ptr):\n",
    "    if ptr != None:\n",
    "        postorder(ptr.left)\n",
    "        postorder(ptr.right)\n",
    "        print('[%2d])' % ptr.data, end='')\n",
    "\n",
    "def preorder(ptr):\n",
    "    if ptr != None:\n",
    "        print('[%2d])' % ptr.data, end='')\n",
    "        preorder(ptr.left)        \n",
    "        preorder(ptr.right)\n",
    "\n",
    "def create_tree(root,val):\n",
    "    newnode=tree()\n",
    "    newnode.data=val\n",
    "    newnode.left=None\n",
    "    newnode.right=None\n",
    "        \n",
    "    if root==None:\n",
    "        root=newnode\n",
    "        return root\n",
    "    else:\n",
    "        current=root\n",
    "        while current!=None:\n",
    "            backup=current\n",
    "            if current.data > val:\n",
    "                current=current.left\n",
    "            else:\n",
    "                current=current.right\n",
    "        if backup.data > val:\n",
    "            backup.left=newnode\n",
    "        else:\n",
    "            backup.right=newnode\n",
    "    return root\n",
    "\n",
    "data=[5,6,24,8,12,3,17,1,9]\n",
    "ptr=None\n",
    "root=None\n",
    "for i in range(len(data)):\n",
    "    ptr=create_tree(ptr,data[i])\n",
    "print('==================================')\n",
    "print('排序完成結果:')\n",
    "inorder(ptr)\n",
    "print('')\n",
    "postorder(ptr)\n",
    "print('')\n",
    "preorder(ptr)\n",
    "print('')\n"
   ]
  }
 ],
 "metadata": {
  "kernelspec": {
   "display_name": "Python 3.7.9 ('pythonenv')",
   "language": "python",
   "name": "python3"
  },
  "language_info": {
   "codemirror_mode": {
    "name": "ipython",
    "version": 3
   },
   "file_extension": ".py",
   "mimetype": "text/x-python",
   "name": "python",
   "nbconvert_exporter": "python",
   "pygments_lexer": "ipython3",
   "version": "3.7.9"
  },
  "orig_nbformat": 4,
  "vscode": {
   "interpreter": {
    "hash": "c2eae4f751eff5ab2a394be4823427468fe69f4432d99d1754359392474473bf"
   }
  }
 },
 "nbformat": 4,
 "nbformat_minor": 2
}
