{
 "cells": [
  {
   "cell_type": "code",
   "execution_count": 2,
   "metadata": {},
   "outputs": [],
   "source": [
    "import sys\n",
    "import random\n"
   ]
  },
  {
   "cell_type": "code",
   "execution_count": 4,
   "metadata": {},
   "outputs": [
    {
     "name": "stdout",
     "output_type": "stream",
     "text": [
      "\n",
      "原始串列資料:\n",
      "座號 成績 \t座號 成績 \t座號 成績\n",
      "==================================\n",
      "   串列 1 :\n",
      "[ 1- 57] =>\t[ 3- 90] =>\t[ 5- 78] =>\t\n",
      "[ 7- 83] =>\t[ 9- 56] =>\t[11- 45] =>\t\n",
      "==================================\n",
      "[ 2- 71] =>\t[ 4- 93] =>\t[ 6- 76] =>\t\n",
      "[ 8- 71] =>\t[10- 58] =>\t[12- 77] =>\t\n",
      "==================================\n",
      "連結後串列:\n",
      "[ 1- 57] =>\t[ 3- 90] =>\t[ 5- 78] =>\t\n",
      "[ 7- 83] =>\t[ 9- 56] =>\t[11- 45] =>\t\n",
      "[ 2- 71] =>\t[ 4- 93] =>\t[ 6- 76] =>\t\n",
      "[ 8- 71] =>\t[10- 58] =>\t[12- 77] =>\t\n"
     ]
    }
   ],
   "source": [
    "class student:\n",
    "    def __init__(self):\n",
    "        self.num=0\n",
    "        self.score=0\n",
    "        self.next=None\n",
    "\n",
    "def create_link(data,num):\n",
    "    for i in range(num):\n",
    "        newnode=student()\n",
    "        if not newnode:\n",
    "            print('Error!!記憶體配置失敗')\n",
    "        if i==0:\n",
    "            newnode.num=data[i][0]\n",
    "            newnode.score=data[i][1]\n",
    "            newnode.next=None\n",
    "            head=newnode\n",
    "            ptr=head\n",
    "        else:\n",
    "            newnode.num=data[i][0]\n",
    "            newnode.score=data[i][1]\n",
    "            newnode.next=None\n",
    "            ptr.next=newnode\n",
    "            ptr=newnode\n",
    "        newnode.next=head\n",
    "    return ptr\n",
    "\n",
    "def print_link(head):\n",
    "    i=0\n",
    "    ptr=head.next\n",
    "    while True:\n",
    "        print('[%2d-%3d] =>' %(ptr.num,ptr.score),end='\\t')\n",
    "        i=i+1\n",
    "        if i>=3:\n",
    "            print()\n",
    "            i=0\n",
    "        ptr=ptr.next\n",
    "        if ptr==head.next:\n",
    "            break\n",
    "\n",
    "def concat(ptr1,ptr2):\n",
    "    head=ptr1.next\n",
    "    ptr1.next=ptr2.next\n",
    "    ptr2.next=head\n",
    "    return ptr2\n",
    "\n",
    "data1=[[None] * 2 for row in range(6)]\n",
    "data2=[[None] * 2 for row in range(6)]\n",
    "\n",
    "for i in range(1,7):\n",
    "    data1[i-1][0]=i*2-1\n",
    "    data1[i-1][1]=random.randint(41,100)\n",
    "    data2[i-1][0]=i*2\n",
    "    data2[i-1][1]=random.randint(41,100)\n",
    "\n",
    "ptr1=create_link(data1,6)\n",
    "ptr2=create_link(data2,6)\n",
    "i=0\n",
    "print('\\n原始串列資料:')\n",
    "print('座號 成績 \\t座號 成績 \\t座號 成績')\n",
    "print('==================================')\n",
    "print('   串列 1 :')\n",
    "print_link(ptr1)\n",
    "print('==================================')\n",
    "print_link(ptr2)\n",
    "print('==================================')\n",
    "print('連結後串列:')\n",
    "ptr=concat(ptr1,ptr2)\n",
    "print_link(ptr)\n",
    "\n"
   ]
  }
 ],
 "metadata": {
  "kernelspec": {
   "display_name": "Python 3.6.13 ('python36env')",
   "language": "python",
   "name": "python3"
  },
  "language_info": {
   "codemirror_mode": {
    "name": "ipython",
    "version": 3
   },
   "file_extension": ".py",
   "mimetype": "text/x-python",
   "name": "python",
   "nbconvert_exporter": "python",
   "pygments_lexer": "ipython3",
   "version": "3.6.13"
  },
  "orig_nbformat": 4,
  "vscode": {
   "interpreter": {
    "hash": "f61eed18d83b707321083cfeef282bc045fcd17070dab199e0ebde4e7e073707"
   }
  }
 },
 "nbformat": 4,
 "nbformat_minor": 2
}
