{
 "cells": [
  {
   "cell_type": "code",
   "execution_count": 5,
   "metadata": {},
   "outputs": [
    {
     "name": "stdout",
     "output_type": "stream",
     "text": [
      "原始員工串列節點資料:\n",
      "[1001  Allen 32367] => [1002  scott 24388] => [1003  Marry 27556] => \n",
      "[1007    jon 31299] => [1012   mark 42660] => [1014  ricky 25676] => \n",
      "[1018   lisa 44145] => [1043 jasica 52182] => [1031 hanson 32769] => \n",
      "[1037    amy 21100] => [1041    bob 32196] => [1046   jack 25776] => \n",
      "\n",
      "反轉後串列節點資料:\n",
      "[1046   jack 25776] =>[1041    bob 32196] =>[1037    amy 21100] =>[1031 hanson 32769] =>\n",
      "[1043 jasica 52182] =>[1018   lisa 44145] =>[1014  ricky 25676] =>[1012   mark 42660] =>\n",
      "[1007    jon 31299] =>[1003  Marry 27556] =>[1002  scott 24388] =>[1001  Allen 32367] =>\n"
     ]
    }
   ],
   "source": [
    "import sys\n",
    "class employee:\n",
    "    def __init__(self):\n",
    "        self.num=0\n",
    "        self.salary=0\n",
    "        self.name=''\n",
    "        self.next=None\n",
    "findword=0\n",
    "\n",
    "namedata=['Allen','scott','Marry','jon','mark','ricky','lisa','jasica','hanson','amy','bob','jack']\n",
    "\n",
    "data=[[1001,32367],[1002,24388],[1003,27556],[1007,31299],[1012,42660],[1014,25676],[1018,44145],[1043,52182],[1031,32769],[1037,21100],[1041,32196],[1046,25776]]\n",
    "\n",
    "head=employee()\n",
    "\n",
    "if not head:\n",
    "    print('Error!! 記憶體配置失敗!!')\n",
    "    sys.exit(0)\n",
    "\n",
    "head.num=data[0][0]\n",
    "head.name=namedata[0]\n",
    "head.salary=data[0][1]\n",
    "head.next=None\n",
    "ptr=head\n",
    "for i in range(1,12):\n",
    "    newnode=employee()\n",
    "    newnode.num=data[i][0]\n",
    "    newnode.name=namedata[i]\n",
    "    newnode.salary=data[i][1]\n",
    "    newnode.next=None\n",
    "    ptr.next=newnode\n",
    "    ptr=ptr.next\n",
    "\n",
    "ptr=head\n",
    "i=0\n",
    "print('原始員工串列節點資料:')\n",
    "while ptr !=None:\n",
    "    print('[%2d %6s %3d] => ' %(ptr.num,ptr.name,ptr.salary), end='')\n",
    "    i=i+1\n",
    "    if i>=3:\n",
    "        print()\n",
    "        i=0\n",
    "    ptr=ptr.next\n",
    "ptr=head\n",
    "before=None\n",
    "print('\\n反轉後串列節點資料:')\n",
    "while ptr!=None:\n",
    "    last=before\n",
    "    before=ptr\n",
    "    ptr=ptr.next\n",
    "    before.next=last\n",
    "\n",
    "ptr=before\n",
    "while ptr!=None:\n",
    "    print('[%2d %6s %3d] =>' %(ptr.num,ptr.name,ptr.salary),end='')\n",
    "    i=i+1\n",
    "    if i>3:\n",
    "        print()\n",
    "        i=0\n",
    "    ptr=ptr.next\n",
    "    \n",
    "    "
   ]
  }
 ],
 "metadata": {
  "kernelspec": {
   "display_name": "Python 3.7.9 ('pythonenv')",
   "language": "python",
   "name": "python3"
  },
  "language_info": {
   "codemirror_mode": {
    "name": "ipython",
    "version": 3
   },
   "file_extension": ".py",
   "mimetype": "text/x-python",
   "name": "python",
   "nbconvert_exporter": "python",
   "pygments_lexer": "ipython3",
   "version": "3.7.9"
  },
  "orig_nbformat": 4,
  "vscode": {
   "interpreter": {
    "hash": "c2eae4f751eff5ab2a394be4823427468fe69f4432d99d1754359392474473bf"
   }
  }
 },
 "nbformat": 4,
 "nbformat_minor": 2
}
