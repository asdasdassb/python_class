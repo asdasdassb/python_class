{
 "cells": [
  {
   "cell_type": "code",
   "execution_count": 3,
   "metadata": {},
   "outputs": [
    {
     "name": "stdout",
     "output_type": "stream",
     "text": [
      "\n",
      "姓名 1\t學號:1\n",
      "\n",
      "姓名 2\t學號:2\n",
      "\n",
      "姓名 3\t學號:3\n",
      "\n",
      "-----------------------------------------------------------\n"
     ]
    }
   ],
   "source": [
    "class student:\n",
    "    def __init__(self):\n",
    "        self.name=''\n",
    "        self.no=''\n",
    "        self.next=None\n",
    "\n",
    "head=student()\n",
    "ptr=head\n",
    "ptr.next=None\n",
    "select=0\n",
    "while select!=2:\n",
    "    select=int(input('(1) 新增 (2)離開'))\n",
    "    if select==2:\n",
    "        break\n",
    "    ptr.name=input('姓名:')\n",
    "    ptr.no=input('學號:')\n",
    "    new_data=student()\n",
    "    ptr.next=new_data\n",
    "    new_data.next=None\n",
    "    ptr=new_data\n",
    "\n",
    "ptr.next=head\n",
    "print()\n",
    "ptr=head\n",
    "\n",
    "while True:\n",
    "    print('姓名 %s\\t學號:%s\\n' %(ptr.name,ptr.no))\n",
    "    ptr=ptr.next\n",
    "    if ptr.next==head:\n",
    "        break\n",
    "        #pass\n",
    "print(\"-----------------------------------------------------------\")\n"
   ]
  }
 ],
 "metadata": {
  "kernelspec": {
   "display_name": "Python 3.7.9 ('pythonenv')",
   "language": "python",
   "name": "python3"
  },
  "language_info": {
   "codemirror_mode": {
    "name": "ipython",
    "version": 3
   },
   "file_extension": ".py",
   "mimetype": "text/x-python",
   "name": "python",
   "nbconvert_exporter": "python",
   "pygments_lexer": "ipython3",
   "version": "3.7.9"
  },
  "orig_nbformat": 4,
  "vscode": {
   "interpreter": {
    "hash": "c2eae4f751eff5ab2a394be4823427468fe69f4432d99d1754359392474473bf"
   }
  }
 },
 "nbformat": 4,
 "nbformat_minor": 2
}
