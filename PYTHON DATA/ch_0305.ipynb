{
 "cells": [
  {
   "cell_type": "code",
   "execution_count": 2,
   "metadata": {},
   "outputs": [
    {
     "name": "stdout",
     "output_type": "stream",
     "text": [
      "兩個鏈結串列相連的結果:\n",
      "[ 1  Allen  60] => [ 2  scott  79] => [ 3  Marry  72] => \n",
      "[ 4    jon  92] => [ 5   mark  90] => [ 6  ricky  86] => \n",
      "[ 7   lisa  99] => [ 8 jasica  75] => [ 9 hanson  62] => \n",
      "[10    amy  53] => [11    bob  91] => [12   jack  63] => \n",
      "[ 1 Allen2  98] => [ 2 scott2  89] => [ 3 Marry2  84] => \n",
      "[ 4   jon2  69] => [ 5  mark2  94] => [ 6 ricky2  63] => \n",
      "[ 7  lisa2  86] => [ 8 jasica2  89] => [ 9 hanson2  70] => \n",
      "[10   amy2  81] => [11   bob2  58] => [12  jack2  58] => \n"
     ]
    }
   ],
   "source": [
    "import sys\n",
    "import random\n",
    "\n",
    "def concatlist(ptr1,ptr2):\n",
    "    ptr=ptr1\n",
    "    while ptr.next!=None:\n",
    "        ptr=ptr.next\n",
    "    ptr.next=ptr2\n",
    "    return ptr1\n",
    "class employee:\n",
    "    def __init__(self):\n",
    "        self.num = 0\n",
    "        self.salary = 0\n",
    "        self.name = ''\n",
    "        self.next = None\n",
    "\n",
    "\n",
    "findword = 0\n",
    "\n",
    "data=[[None]*2 for row in range(12)]\n",
    "\n",
    "namedata1 = ['Allen', 'scott', 'Marry', 'jon', 'mark',\n",
    "            'ricky', 'lisa', 'jasica', 'hanson', 'amy', 'bob', 'jack']\n",
    "\n",
    "namedata2= ['Allen2', 'scott2', 'Marry2', 'jon2', 'mark2',\n",
    "            'ricky2', 'lisa2', 'jasica2', 'hanson2', 'amy2', 'bob2', 'jack2']\n",
    "\n",
    "#data = [[1001, 32367], [1002, 24388], [1003, 27556], [1007, 31299], [1012, 42660], [1014, 25676], [\n",
    "#    1018, 44145], [1043, 52182], [1031, 32769], [1037, 21100], [1041, 32196], [1046, 25776]]\n",
    "\n",
    "for i in range(12):\n",
    "    data[i][0]=i+1\n",
    "    data[i][1]=random.randint(51,100)\n",
    "head1=employee()\n",
    "\n",
    "\n",
    "if not head1:\n",
    "    print('Error!! 記憶體配置失敗!!')\n",
    "    sys.exit(0)\n",
    "\n",
    "head1.num = data[0][0]\n",
    "head1.name = namedata1[0]\n",
    "head1.salary = data[0][1]\n",
    "head1.next = None\n",
    "ptr = head1\n",
    "for i in range(1, 12):\n",
    "    newnode = employee()\n",
    "    newnode.num = data[i][0]\n",
    "    newnode.name = namedata1[i]\n",
    "    newnode.salary = data[i][1]\n",
    "    newnode.next = None\n",
    "    ptr.next = newnode\n",
    "    ptr = ptr.next\n",
    "for i in range(12):\n",
    "    data[i][0] = i+1\n",
    "    data[i][1] = random.randint(51, 100)\n",
    "head2=employee()\n",
    "if not head2:\n",
    "    print('Error!! 記憶體配置失敗!!')\n",
    "    sys.exit(0)\n",
    "head2.num = data[0][0]\n",
    "head2.name = namedata2[0]\n",
    "head2.salary = data[0][1]\n",
    "head2.next = None\n",
    "ptr = head2\n",
    "for i in range(1, 12):\n",
    "    newnode = employee()\n",
    "    newnode.num = data[i][0]\n",
    "    newnode.name = namedata2[i]\n",
    "    newnode.salary = data[i][1]\n",
    "    newnode.next = None\n",
    "    ptr.next = newnode\n",
    "    ptr = ptr.next\n",
    "i=0\n",
    "ptr=concatlist(head1,head2)\n",
    "print('兩個鏈結串列相連的結果:')\n",
    "while ptr!=None:\n",
    "    print('[%2d %6s %3d] => ' %(ptr.num,ptr.name,ptr.salary),end='')\n",
    "    i=i+1\n",
    "    if i>=3:\n",
    "        print()\n",
    "        i=0\n",
    "    ptr=ptr.next\n"
   ]
  }
 ],
 "metadata": {
  "kernelspec": {
   "display_name": "Python 3.7.9 ('pythonenv')",
   "language": "python",
   "name": "python3"
  },
  "language_info": {
   "codemirror_mode": {
    "name": "ipython",
    "version": 3
   },
   "file_extension": ".py",
   "mimetype": "text/x-python",
   "name": "python",
   "nbconvert_exporter": "python",
   "pygments_lexer": "ipython3",
   "version": "3.7.9"
  },
  "orig_nbformat": 4,
  "vscode": {
   "interpreter": {
    "hash": "c2eae4f751eff5ab2a394be4823427468fe69f4432d99d1754359392474473bf"
   }
  }
 },
 "nbformat": 4,
 "nbformat_minor": 2
}
