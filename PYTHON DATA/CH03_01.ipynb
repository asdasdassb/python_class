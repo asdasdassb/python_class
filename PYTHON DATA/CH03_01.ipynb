{
 "cells": [
  {
   "cell_type": "code",
   "execution_count": 2,
   "metadata": {},
   "outputs": [
    {
     "name": "stdout",
     "output_type": "stream",
     "text": [
      "(1) 新增 (2) 離開 =>\n",
      "(1) 新增 (2) 離開 =>\n",
      "\n",
      "姓名: 234\t學號:666\t數學成績:60\t英文成績:60\n",
      "_____________________________________________________\n",
      "本串列學生數學平均為60.00 英文平均為60.00\n"
     ]
    }
   ],
   "source": [
    "import sys\n",
    "\n",
    "class student:\n",
    "    def __init__(self):\n",
    "        self.name=''\n",
    "        self.Math=0\n",
    "        self.Eng=0\n",
    "        self.no=''\n",
    "        self.next=None\n",
    "\n",
    "head=student()\n",
    "head.next=None\n",
    "ptr=head\n",
    "Msum=Esum=num=student_no=0\n",
    "select = 0\n",
    "\n",
    "while select !=2:\n",
    "    print('(1) 新增 (2) 離開 =>')\n",
    "    try:\n",
    "        select=int(input('請輸入一個選項'))\n",
    "    except ValueError:\n",
    "        print('輸入錯誤')\n",
    "        print('請重新輸入\\n')\n",
    "    if select ==1:\n",
    "        new_data=student()\n",
    "        new_data.name=input('姓名')\n",
    "        new_data.no=input('學號:')\n",
    "        new_data.Math=eval(input('數學成績:'))\n",
    "        new_data.Eng=eval(input('英文成績:'))\n",
    "        ptr.next=new_data\n",
    "        new_data.next=None\n",
    "        ptr=ptr.next\n",
    "        num=num+1\n",
    "ptr=head.next\n",
    "\n",
    "print()\n",
    "while ptr !=None:\n",
    "    print('姓名: %s\\t學號:%s\\t數學成績:%d\\t英文成績:%d' %(ptr.name,ptr.no,ptr.Math,ptr.Eng))\n",
    "\n",
    "    Msum=Msum+ptr.Math\n",
    "    Esum=Esum+ptr.Eng\n",
    "    student_no=student_no+1\n",
    "    ptr=ptr.next\n",
    "\n",
    "if student_no !=0:\n",
    "    print(\"_____________________________________________________\")\n",
    "    print('本串列學生數學平均為%.2f 英文平均為%.2f'%(Msum/student_no,Esum/student_no))\n",
    "\n"
   ]
  }
 ],
 "metadata": {
  "kernelspec": {
   "display_name": "Python 3.7.9 ('pythonenv')",
   "language": "python",
   "name": "python3"
  },
  "language_info": {
   "codemirror_mode": {
    "name": "ipython",
    "version": 3
   },
   "file_extension": ".py",
   "mimetype": "text/x-python",
   "name": "python",
   "nbconvert_exporter": "python",
   "pygments_lexer": "ipython3",
   "version": "3.7.9"
  },
  "orig_nbformat": 4,
  "vscode": {
   "interpreter": {
    "hash": "c2eae4f751eff5ab2a394be4823427468fe69f4432d99d1754359392474473bf"
   }
  }
 },
 "nbformat": 4,
 "nbformat_minor": 2
}
