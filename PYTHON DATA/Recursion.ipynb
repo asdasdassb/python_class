{
 "cells": [
  {
   "cell_type": "code",
   "execution_count": 3,
   "metadata": {},
   "outputs": [
    {
     "name": "stdout",
     "output_type": "stream",
     "text": [
      "120\n"
     ]
    }
   ],
   "source": [
    "n=int(input(\"輸入一個數字\"))\n",
    "ans=1\n",
    "b=0\n",
    "for i in range(1,n+1):\n",
    "    ans=ans*i\n",
    "\n",
    "print(ans)\n"
   ]
  },
  {
   "cell_type": "code",
   "execution_count": 5,
   "metadata": {},
   "outputs": [],
   "source": [
    "def A():\n",
    "    print(\"A\")\n",
    "def B():\n",
    "    A()\n",
    "    print(\"B\")\n",
    "def C():\n",
    "    B()\n",
    "    print(\"C\")"
   ]
  },
  {
   "cell_type": "code",
   "execution_count": 6,
   "metadata": {},
   "outputs": [
    {
     "name": "stdout",
     "output_type": "stream",
     "text": [
      "A\n",
      "B\n",
      "C\n"
     ]
    }
   ],
   "source": [
    "C()"
   ]
  },
  {
   "cell_type": "code",
   "execution_count": 7,
   "metadata": {},
   "outputs": [
    {
     "name": "stdout",
     "output_type": "stream",
     "text": [
      "0 !值為   1\n",
      "1 !值為   1\n",
      "2 !值為   2\n",
      "3 !值為   6\n",
      "4 !值為  24\n",
      "5 !值為 120\n"
     ]
    }
   ],
   "source": [
    "def factorial(i):\n",
    "    if i ==0:\n",
    "        return 1\n",
    "    else:\n",
    "        product=i * factorial(i-1) #sum=n*(n-1)!所以直接呼叫本身\n",
    "        return product\n",
    "n=int(input(\"請輸入階層\"))\n",
    "\n",
    "for i in range(n+1):\n",
    "    print('%d !值為 %3d' %(i,factorial(i)))"
   ]
  }
 ],
 "metadata": {
  "interpreter": {
   "hash": "c2eae4f751eff5ab2a394be4823427468fe69f4432d99d1754359392474473bf"
  },
  "kernelspec": {
   "display_name": "Python 3.7.9 ('pythonenv')",
   "language": "python",
   "name": "python3"
  },
  "language_info": {
   "codemirror_mode": {
    "name": "ipython",
    "version": 3
   },
   "file_extension": ".py",
   "mimetype": "text/x-python",
   "name": "python",
   "nbconvert_exporter": "python",
   "pygments_lexer": "ipython3",
   "version": "3.7.9"
  },
  "orig_nbformat": 4
 },
 "nbformat": 4,
 "nbformat_minor": 2
}
