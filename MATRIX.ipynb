{
 "cells": [
  {
   "cell_type": "code",
   "execution_count": 3,
   "metadata": {},
   "outputs": [
    {
     "data": {
      "text/plain": [
       "8"
      ]
     },
     "execution_count": 3,
     "metadata": {},
     "output_type": "execute_result"
    }
   ],
   "source": [
    "a = 8\n",
    "a"
   ]
  },
  {
   "cell_type": "code",
   "execution_count": 2,
   "metadata": {},
   "outputs": [
    {
     "data": {
      "text/plain": [
       "8"
      ]
     },
     "execution_count": 2,
     "metadata": {},
     "output_type": "execute_result"
    }
   ],
   "source": [
    "a"
   ]
  },
  {
   "cell_type": "code",
   "execution_count": 4,
   "metadata": {},
   "outputs": [
    {
     "data": {
      "text/plain": [
       "4"
      ]
     },
     "execution_count": 4,
     "metadata": {},
     "output_type": "execute_result"
    }
   ],
   "source": [
    "b =  4\n",
    "b"
   ]
  },
  {
   "cell_type": "code",
   "execution_count": 5,
   "metadata": {},
   "outputs": [
    {
     "data": {
      "text/plain": [
       "'heeloo'"
      ]
     },
     "execution_count": 5,
     "metadata": {},
     "output_type": "execute_result"
    }
   ],
   "source": [
    "\"heeloo\""
   ]
  },
  {
   "cell_type": "code",
   "execution_count": 6,
   "metadata": {},
   "outputs": [
    {
     "data": {
      "text/plain": [
       "\"wifoljoil'\""
      ]
     },
     "execution_count": 6,
     "metadata": {},
     "output_type": "execute_result"
    }
   ],
   "source": [
    " \"wifoljoil'\""
   ]
  },
  {
   "cell_type": "code",
   "execution_count": 7,
   "metadata": {},
   "outputs": [
    {
     "data": {
      "text/plain": [
       "'wheudhiwe\"'"
      ]
     },
     "execution_count": 7,
     "metadata": {},
     "output_type": "execute_result"
    }
   ],
   "source": [
    "'wheudhiwe\"'"
   ]
  },
  {
   "cell_type": "code",
   "execution_count": 8,
   "metadata": {},
   "outputs": [
    {
     "data": {
      "text/plain": [
       "11"
      ]
     },
     "execution_count": 8,
     "metadata": {},
     "output_type": "execute_result"
    }
   ],
   "source": [
    "3+8"
   ]
  },
  {
   "cell_type": "code",
   "execution_count": 9,
   "metadata": {},
   "outputs": [
    {
     "data": {
      "text/plain": [
       "9.8"
      ]
     },
     "execution_count": 9,
     "metadata": {},
     "output_type": "execute_result"
    }
   ],
   "source": [
    "98/10"
   ]
  },
  {
   "cell_type": "code",
   "execution_count": 10,
   "metadata": {},
   "outputs": [
    {
     "data": {
      "text/plain": [
       "8"
      ]
     },
     "execution_count": 10,
     "metadata": {},
     "output_type": "execute_result"
    }
   ],
   "source": [
    "98%10"
   ]
  },
  {
   "cell_type": "code",
   "execution_count": 11,
   "metadata": {},
   "outputs": [],
   "source": [
    "import numpy as np"
   ]
  },
  {
   "cell_type": "code",
   "execution_count": 18,
   "metadata": {},
   "outputs": [
    {
     "data": {
      "text/plain": [
       "array([ 3,  8, 15])"
      ]
     },
     "execution_count": 18,
     "metadata": {},
     "output_type": "execute_result"
    }
   ],
   "source": [
    "a = np.array([1,2,3])\n",
    "b = np.array([3,4,5])\n",
    "a*b"
   ]
  },
  {
   "cell_type": "code",
   "execution_count": 19,
   "metadata": {},
   "outputs": [
    {
     "data": {
      "text/plain": [
       "array([3, 4, 5])"
      ]
     },
     "execution_count": 19,
     "metadata": {},
     "output_type": "execute_result"
    }
   ],
   "source": [
    "b"
   ]
  },
  {
   "cell_type": "code",
   "execution_count": 20,
   "metadata": {},
   "outputs": [
    {
     "data": {
      "text/plain": [
       "array([[2, 2],\n",
       "       [3, 3]])"
      ]
     },
     "execution_count": 20,
     "metadata": {},
     "output_type": "execute_result"
    }
   ],
   "source": [
    "c = np.array([[2,2],[3,3]])\n",
    "c"
   ]
  },
  {
   "cell_type": "code",
   "execution_count": 21,
   "metadata": {},
   "outputs": [
    {
     "data": {
      "text/plain": [
       "array([[2, 3],\n",
       "       [4, 5]])"
      ]
     },
     "execution_count": 21,
     "metadata": {},
     "output_type": "execute_result"
    }
   ],
   "source": [
    "d = np.array([[2,3],[4,5]])\n",
    "d"
   ]
  },
  {
   "cell_type": "code",
   "execution_count": 22,
   "metadata": {},
   "outputs": [
    {
     "data": {
      "text/plain": [
       "array([[ 4,  6],\n",
       "       [12, 15]])"
      ]
     },
     "execution_count": 22,
     "metadata": {},
     "output_type": "execute_result"
    }
   ],
   "source": [
    "c * d"
   ]
  },
  {
   "cell_type": "code",
   "execution_count": 23,
   "metadata": {},
   "outputs": [
    {
     "data": {
      "text/plain": [
       "array([[12, 16],\n",
       "       [18, 24]])"
      ]
     },
     "execution_count": 23,
     "metadata": {},
     "output_type": "execute_result"
    }
   ],
   "source": [
    "c.dot(d)"
   ]
  },
  {
   "cell_type": "code",
   "execution_count": 18,
   "metadata": {},
   "outputs": [
    {
     "name": "stdout",
     "output_type": "stream",
     "text": [
      "5566000\n",
      "6655\n"
     ]
    }
   ],
   "source": [
    "lst = input()\n",
    "#lst=lst.strip(\"0\")\n",
    "#if lst==\"\":\n",
    "#    lst = \"0\"\n",
    "\n",
    "print(int(lst[::-1]))"
   ]
  },
  {
   "cell_type": "code",
   "execution_count": 20,
   "metadata": {},
   "outputs": [
    {
     "data": {
      "text/plain": [
       "5446534"
      ]
     },
     "execution_count": 20,
     "metadata": {},
     "output_type": "execute_result"
    }
   ],
   "source": [
    "int(\"0005446534\")"
   ]
  },
  {
   "cell_type": "markdown",
   "metadata": {},
   "source": [
    "# 學校矩陣加法"
   ]
  },
  {
   "cell_type": "code",
   "execution_count": 17,
   "metadata": {},
   "outputs": [
    {
     "name": "stdout",
     "output_type": "stream",
     "text": [
      "2 ,4 ,6 ,8 ,10 ,\n",
      "12 ,14 ,16 ,18 ,20 ,\n",
      "22 ,24 ,26 ,28 ,30 ,\n"
     ]
    }
   ],
   "source": [
    "list1=[[1,2,3,4,5],[6,7,8,9,10],[11,12,13,14,15]]\n",
    "list2=[[1,2,3,4,5],[6,7,8,9,10],[11,12,13,14,15]]\n",
    "ans=[[0,0,0,0,0],[0,0,0,0,0],[0,0,0,0,0]]\n",
    "\n",
    "def show_arr(arr):\n",
    "    for i in range(len(arr)):\n",
    "        for j in range(len(arr[0])):\n",
    "             print(arr[i][j],\",\", end=\"\")\n",
    "        print()\n",
    "\n",
    "for i in range(len(list1)):\n",
    "    for j in range(len(list2[0])):\n",
    "        ans[i][j]=list1[i][j]+list2[i][j]\n",
    "show_arr(ans)"
   ]
  },
  {
   "cell_type": "code",
   "execution_count": 19,
   "metadata": {},
   "outputs": [
    {
     "name": "stdout",
     "output_type": "stream",
     "text": [
      "2 ,4 ,6 ,8 ,10 ,\n",
      "12 ,14 ,16 ,18 ,20 ,\n",
      "22 ,24 ,26 ,28 ,30 ,\n"
     ]
    }
   ],
   "source": [
    "list1=[[1,2,3,4,5],[6,7,8,9,10],[11,12,13,14,15]]\n",
    "list2=[[1,2,3,4,5],[6,7,8,9,10],[11,12,13,14,15]]\n",
    "ans=[]\n",
    "\n",
    "def show_arr(arr):\n",
    "    for i in range(len(arr)):\n",
    "        for j in range(len(arr[0])):\n",
    "             print(arr[i][j],\",\", end=\"\")\n",
    "        print()\n",
    "\n",
    "for i in range(len(list1)):\n",
    "    ans.append([])\n",
    "    for j in range(len(list2[0])):\n",
    "        ans[i].append(list1[i][j]+list2[i][j])\n",
    "show_arr(ans)"
   ]
  },
  {
   "cell_type": "markdown",
   "metadata": {},
   "source": [
    "# 矩陣乘法"
   ]
  },
  {
   "cell_type": "code",
   "execution_count": 22,
   "metadata": {},
   "outputs": [
    {
     "name": "stdout",
     "output_type": "stream",
     "text": [
      "13 ,17 ,21 ,\n",
      "18 ,24 ,30 ,\n",
      "29 ,40 ,51 ,\n"
     ]
    }
   ],
   "source": [
    "list1=[[1,3],[2,4],[5,6]]\n",
    "list2=[[1,2,3],[4,5,6]]\n",
    "ans=[[0,0,0],[0,0,0],[0,0,0]]\n",
    "\n",
    "def show_arr(arr):\n",
    "    for i in range(len(arr)):\n",
    "        for j in range(len(arr[0])):\n",
    "             print(arr[i][j],\",\", end=\"\")\n",
    "        print()\n",
    "        \n",
    "for i in range(len(list1)):\n",
    "    for j in range(len(list2[0])):\n",
    "        \n",
    "        for k in range(len(list1[0])):\n",
    "            ans[i][j]+=list1[i][k]*list2[k][j]\n",
    "show_arr(ans)           \n"
   ]
  },
  {
   "cell_type": "code",
   "execution_count": 25,
   "metadata": {},
   "outputs": [
    {
     "name": "stdout",
     "output_type": "stream",
     "text": [
      "13 ,17 ,21 ,\n",
      "18 ,24 ,30 ,\n",
      "29 ,40 ,51 ,\n"
     ]
    }
   ],
   "source": [
    "list1=[[1,3],[2,4],[5,6]]\n",
    "list2=[[1,2,3],[4,5,6]]\n",
    "ans=[[0]*len(list2[0]) for i in range(len(list1))]\n",
    "\n",
    "def show_arr(arr):\n",
    "    for i in range(len(arr)):\n",
    "        for j in range(len(arr[0])):\n",
    "             print(arr[i][j],\",\", end=\"\")\n",
    "        print()\n",
    "        \n",
    "for i in range(len(list1)):\n",
    "    for j in range(len(list2[0])):\n",
    "        \n",
    "        for k in range(len(list1[0])):\n",
    "            ans[i][j]+=list1[i][k]*list2[k][j]\n",
    "show_arr(ans)  "
   ]
  },
  {
   "cell_type": "code",
   "execution_count": 23,
   "metadata": {},
   "outputs": [
    {
     "name": "stdout",
     "output_type": "stream",
     "text": [
      "13 ,17 ,21 ,\n",
      "18 ,24 ,30 ,\n",
      "29 ,40 ,51 ,\n"
     ]
    }
   ],
   "source": [
    "list1=[[1,3],[2,4],[5,6]]\n",
    "list2=[[1,2,3],[4,5,6]]\n",
    "ans=[]\n",
    "\n",
    "def show_arr(arr):\n",
    "    for i in range(len(arr)):\n",
    "        for j in range(len(arr[0])):\n",
    "             print(arr[i][j],\",\", end=\"\")\n",
    "        print()\n",
    "        \n",
    "for i in range(len(list1)):\n",
    "    ans.append([])\n",
    "    for j in range(len(list2[0])):\n",
    "        ans[i].append(0)\n",
    "        for k in range(len(list1[0])):\n",
    "            ans[i][j]+=list1[i][k]*list2[k][j]\n",
    "show_arr(ans)    "
   ]
  },
  {
   "cell_type": "code",
   "execution_count": 24,
   "metadata": {},
   "outputs": [
    {
     "name": "stdout",
     "output_type": "stream",
     "text": [
      "13 ,17 ,21 ,\n",
      "18 ,24 ,30 ,\n",
      "29 ,40 ,51 ,\n"
     ]
    }
   ],
   "source": [
    "list1=[[1,3],[2,4],[5,6]]\n",
    "list2=[[1,2,3],[4,5,6]]\n",
    "ans=[]\n",
    "\n",
    "def show_arr(arr):\n",
    "    for i in range(len(arr)):\n",
    "        for j in range(len(arr[0])):\n",
    "             print(arr[i][j],\",\", end=\"\")\n",
    "        print()\n",
    "        \n",
    "for i in range(len(list1)):\n",
    "    ans.append([])\n",
    "    for j in range(len(list2[0])):\n",
    "        s=0\n",
    "        for k in range(len(list1[0])):\n",
    "            s+=list1[i][k]*list2[k][j]\n",
    "        ans[i].append(s)\n",
    "show_arr(ans)    "
   ]
  },
  {
   "cell_type": "code",
   "execution_count": 7,
   "metadata": {},
   "outputs": [
    {
     "data": {
      "text/plain": [
       "5"
      ]
     },
     "execution_count": 7,
     "metadata": {},
     "output_type": "execute_result"
    }
   ],
   "source": [
    "len(list1[0])"
   ]
  },
  {
   "cell_type": "code",
   "execution_count": null,
   "metadata": {},
   "outputs": [],
   "source": []
  },
  {
   "cell_type": "code",
   "execution_count": null,
   "metadata": {},
   "outputs": [],
   "source": []
  },
  {
   "cell_type": "code",
   "execution_count": 5,
   "metadata": {},
   "outputs": [
    {
     "name": "stdout",
     "output_type": "stream",
     "text": [
      "3\n",
      "3\n"
     ]
    }
   ],
   "source": [
    "print(len(list1))\n",
    "print(len(list2))"
   ]
  },
  {
   "cell_type": "code",
   "execution_count": 2,
   "metadata": {},
   "outputs": [
    {
     "data": {
      "text/plain": [
       "[[0, 0, 0, 0, 0], [0, 0, 0, 0, 0], [0, 0, 0, 0, 0]]"
      ]
     },
     "execution_count": 2,
     "metadata": {},
     "output_type": "execute_result"
    }
   ],
   "source": [
    "[[0]*5 for i in range(3)] # for comprehension"
   ]
  },
  {
   "cell_type": "code",
   "execution_count": 3,
   "metadata": {},
   "outputs": [
    {
     "data": {
      "text/plain": [
       "[0, 0, 0, 0, 0]"
      ]
     },
     "execution_count": 3,
     "metadata": {},
     "output_type": "execute_result"
    }
   ],
   "source": [
    "[0]*5"
   ]
  },
  {
   "cell_type": "code",
   "execution_count": 4,
   "metadata": {},
   "outputs": [
    {
     "data": {
      "text/plain": [
       "[[0, 0, 0, 0, 0], [0, 0, 0, 0, 0], [0, 0, 0, 0, 0]]"
      ]
     },
     "execution_count": 4,
     "metadata": {},
     "output_type": "execute_result"
    }
   ],
   "source": [
    "lst = []\n",
    "for i in range(3):\n",
    "    lst.append([0]*5)\n",
    "lst"
   ]
  },
  {
   "cell_type": "code",
   "execution_count": null,
   "metadata": {},
   "outputs": [],
   "source": []
  }
 ],
 "metadata": {
  "kernelspec": {
   "display_name": "Python 3",
   "language": "python",
   "name": "python3"
  },
  "language_info": {
   "codemirror_mode": {
    "name": "ipython",
    "version": 3
   },
   "file_extension": ".py",
   "mimetype": "text/x-python",
   "name": "python",
   "nbconvert_exporter": "python",
   "pygments_lexer": "ipython3",
   "version": "3.7.9"
  }
 },
 "nbformat": 4,
 "nbformat_minor": 4
}
