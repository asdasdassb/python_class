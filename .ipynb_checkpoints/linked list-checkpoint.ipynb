{
 "cells": [
  {
   "cell_type": "markdown",
   "metadata": {},
   "source": [
    "select=0\n",
    "\n",
    "try:\n",
    "    select=int(input(\"輸入一個選項:\"))\n",
    "except ValueError:\n",
    "    print(\"輸入錯誤\")\n",
    "    print(\"再輸入一次\")\n",
    "print(\"HI\")\n"
   ]
  },
  {
   "cell_type": "code",
   "execution_count": 8,
   "metadata": {
    "scrolled": true
   },
   "outputs": [
    {
     "data": {
      "text/plain": [
       "int"
      ]
     },
     "execution_count": 8,
     "metadata": {},
     "output_type": "execute_result"
    }
   ],
   "source": [
    "type(eval('68'))"
   ]
  },
  {
   "cell_type": "code",
   "execution_count": 2,
   "metadata": {},
   "outputs": [],
   "source": [
    "class Student:\n",
    "    def __init__(self):\n",
    "        self.name=''\n",
    "        self.no=''\n",
    "        self.Math=0\n",
    "        self.Eng=0\n",
    "        self.next=None"
   ]
  },
  {
   "cell_type": "code",
   "execution_count": 3,
   "metadata": {},
   "outputs": [
    {
     "name": "stdout",
     "output_type": "stream",
     "text": [
      "(1)新增 (2)離開=>\n",
      "輸入一個選項:1\n",
      "姓名曾\n",
      "學號1\n",
      "數學成績100\n",
      "英文成績100\n",
      "(1)新增 (2)離開=>\n",
      "輸入一個選項:1\n",
      "姓名蕭\n",
      "學號2\n",
      "數學成績100\n",
      "英文成績30\n",
      "(1)新增 (2)離開=>\n",
      "輸入一個選項:2\n"
     ]
    }
   ],
   "source": [
    "head=Student()\n",
    "head.next=None\n",
    "ptr=head\n",
    "Msum=Esum=num=Student_no=0\n",
    "select=0\n",
    "\n",
    "while select !=2:\n",
    "    print('(1)新增 (2)離開=>')\n",
    "    try: \n",
    "        select=int(input(\"輸入一個選項:\")) \n",
    "    except ValueError:\n",
    "        print(\"輸入錯誤\") \n",
    "        print(\"再輸入一次\") \n",
    "    if select==1:\n",
    "        new_data=Student()\n",
    "        new_data.name=input('姓名')\n",
    "        new_data.no=(input('學號'))\n",
    "        new_data.Math=int(input('數學成績'))\n",
    "        new_data.Eng=int(input('英文成績'))\n",
    "        ptr.next=new_data\n",
    "        new_data.next=None\n",
    "        ptr=ptr.next\n",
    "        num=num+1\n",
    "    "
   ]
  },
  {
   "cell_type": "code",
   "execution_count": 4,
   "metadata": {},
   "outputs": [
    {
     "name": "stdout",
     "output_type": "stream",
     "text": [
      "姓名原\n",
      "學號3\n",
      "數學成績50\n",
      "英文成績50\n"
     ]
    }
   ],
   "source": [
    "# 新增節點在頭\n",
    "\n",
    "new_data=Student()\n",
    "new_data.name=input('姓名')\n",
    "new_data.no=(input('學號'))\n",
    "new_data.Math=int(input('數學成績'))\n",
    "new_data.Eng=int(input('英文成績'))\n",
    "new_data.next=head.next\n",
    "head.next=new_data\n"
   ]
  },
  {
   "cell_type": "code",
   "execution_count": 5,
   "metadata": {},
   "outputs": [
    {
     "name": "stdout",
     "output_type": "stream",
     "text": [
      "姓名:原\t學號:3\t數學成績:50\t英文成績:50\n",
      "姓名:曾\t學號:1\t數學成績:100\t英文成績:100\n",
      "姓名:蕭\t學號:2\t數學成績:100\t英文成績:30\n",
      "___________________________________________________________\n",
      "本串列學生平均成績:83.33英文平均成績:60.00\n"
     ]
    }
   ],
   "source": [
    "ptr=head.next\n",
    "while ptr!=None:\n",
    "    print('姓名:%s\\t學號:%s\\t數學成績:%d\\t英文成績:%d'\\\n",
    "         %(ptr.name,ptr.no,ptr.Math,ptr.Eng))\n",
    "    Msum=Msum+ptr.Math\n",
    "    Esum=Esum+ptr.Eng\n",
    "    Student_no=Student_no+1\n",
    "    ptr=ptr.next\n",
    "if Student_no!=0:\n",
    "    print(\"___________________________________________________________\")\n",
    "    print(\"本串列學生平均成績:%.2f英文平均成績:%.2f\"\\\n",
    "         %(Msum/Student_no,Esum/Student_no))"
   ]
  },
  {
   "cell_type": "code",
   "execution_count": null,
   "metadata": {},
   "outputs": [],
   "source": []
  }
 ],
 "metadata": {
  "kernelspec": {
   "display_name": "Python 3",
   "language": "python",
   "name": "python3"
  },
  "language_info": {
   "codemirror_mode": {
    "name": "ipython",
    "version": 3
   },
   "file_extension": ".py",
   "mimetype": "text/x-python",
   "name": "python",
   "nbconvert_exporter": "python",
   "pygments_lexer": "ipython3",
   "version": "3.7.9"
  }
 },
 "nbformat": 4,
 "nbformat_minor": 4
}
