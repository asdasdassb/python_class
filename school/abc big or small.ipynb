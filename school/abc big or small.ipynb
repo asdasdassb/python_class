{
 "cells": [
  {
   "cell_type": "code",
   "execution_count": 14,
   "metadata": {},
   "outputs": [
    {
     "name": "stdout",
     "output_type": "stream",
     "text": [
      "asd142ASD\n"
     ]
    }
   ],
   "source": [
    "a=(input(\"請輸入一段英文與數字\"))\n",
    "ans=\"\"\n",
    "\n",
    "for i in range(0,len(a)):\n",
    "    if a[i].isalpha():\n",
    "        ans=ans+caseChange(a[i]) \n",
    "    else:\n",
    "        ans=ans+a[i]\n",
    "print(ans)\n",
    "\n"
   ]
  },
  {
   "cell_type": "code",
   "execution_count": 13,
   "metadata": {},
   "outputs": [],
   "source": [
    "def caseChange(x):\n",
    "    if x.isupper():\n",
    "        ans=x.lower()\n",
    "    else:\n",
    "        ans=x.upper()  \n",
    "    return ans"
   ]
  },
  {
   "cell_type": "code",
   "execution_count": 4,
   "metadata": {},
   "outputs": [
    {
     "name": "stdout",
     "output_type": "stream",
     "text": [
      "e\n",
      "w\n",
      "f\n",
      "d\n",
      "a\n",
      "q\n",
      "r\n",
      "e\n",
      "2\n"
     ]
    }
   ],
   "source": [
    "a = \"ewfdaqre2\"\n",
    "\n",
    "for s in a:\n",
    "    print(s)"
   ]
  }
 ],
 "metadata": {
  "interpreter": {
   "hash": "c2eae4f751eff5ab2a394be4823427468fe69f4432d99d1754359392474473bf"
  },
  "kernelspec": {
   "display_name": "Python 3.7.9 ('pythonenv')",
   "language": "python",
   "name": "python3"
  },
  "language_info": {
   "codemirror_mode": {
    "name": "ipython",
    "version": 3
   },
   "file_extension": ".py",
   "mimetype": "text/x-python",
   "name": "python",
   "nbconvert_exporter": "python",
   "pygments_lexer": "ipython3",
   "version": "3.7.9"
  },
  "orig_nbformat": 4
 },
 "nbformat": 4,
 "nbformat_minor": 2
}
