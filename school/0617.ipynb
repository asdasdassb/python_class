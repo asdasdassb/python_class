{
 "cells": [
  {
   "cell_type": "code",
   "execution_count": 66,
   "metadata": {},
   "outputs": [],
   "source": [
    "from bs4 import BeautifulSoup\n",
    "from selenium import webdriver\n",
    "from selenium.webdriver.common.keys import Keys\n",
    "import time\n",
    "import pandas as pd\n",
    "from PIL import Image\n",
    "import requests\n",
    "from io import BytesIO\n"
   ]
  },
  {
   "cell_type": "code",
   "execution_count": null,
   "metadata": {},
   "outputs": [],
   "source": [
    "'''\n",
    "driver = webdriver.Edge('msedgedriver')\n",
    "#driver.implicitly_wait(10)\n",
    "url=\"http://www.google.com\"\n",
    "driver.get(url)\n",
    "\n",
    "time.sleep(1)\n",
    "\n",
    "button1 = driver.find_element_by_partial_link_text('Gmail')\n",
    "button1.click()\n",
    "\n",
    "time.sleep(1)\n",
    "driver.back()\n",
    "'''"
   ]
  },
  {
   "cell_type": "code",
   "execution_count": null,
   "metadata": {},
   "outputs": [],
   "source": [
    "#keyword=driver.find_element_by_class_name(\"q\")\n",
    "#keyword.send_keys(\"stu\")\n",
    "#keyword.send_keys(keys.ENTER);"
   ]
  },
  {
   "cell_type": "code",
   "execution_count": null,
   "metadata": {},
   "outputs": [],
   "source": [
    "'''\n",
    "driver = webdriver.Edge('msedgedriver')\n",
    "url = \"https://www.youtube.com/c/TVBSNEWS01/videos\"\n",
    "driver.get(url)\n",
    "videos=driver.find_elements_by_class_name(\"style-scope ytd-grid-video-renderer\")\n",
    "\n",
    "a = []\n",
    "\n",
    "for video in videos:\n",
    "    #print(video.text)\n",
    "    a.append(video.text.split(\"觀看次數\"))\n",
    "\n",
    "pda=pd.Series(a)\n",
    "print(pda)\n",
    "'''"
   ]
  },
  {
   "cell_type": "code",
   "execution_count": null,
   "metadata": {},
   "outputs": [],
   "source": [
    "driver = webdriver.Edge('msedgedriver')\n",
    "url_base = 'https://www.comicabc.com/online/new-8764.html?ch=476'\n",
    "driver.get(url_base)\n",
    "soup = BeautifulSoup(driver.page_source, 'lxml')\n",
    "pagenum = soup.select_one('#pagenum').text.split('/')[1].strip('頁')\n",
    "print(pagenum)\n",
    "for page in range(1, int(pagenum)+1):\n",
    "    num=str(page)\n",
    "    url = url_base + \"-\"+ num\n",
    "    num=\"\"\n",
    "    driver.get(url)\n",
    "    soup = BeautifulSoup(driver.page_source, 'lxml')\n",
    "    src = 'https:' + soup.select_one('#TheImg').get('src')\n",
    "    print(src)\n",
    "    response = requests.get(src)\n",
    "    img = Image.open(BytesIO(response.content))\n",
    "    display(img)\n",
    "    #img.save(str(page)+'.jpg')\n"
   ]
  },
  {
   "cell_type": "code",
   "execution_count": null,
   "metadata": {},
   "outputs": [],
   "source": [
    "print(soup.select_one('#pagenum').text.split('/')[1].strip('頁'))"
   ]
  }
 ],
 "metadata": {
  "kernelspec": {
   "display_name": "Python 3.7.9 ('pythonenv')",
   "language": "python",
   "name": "python3"
  },
  "language_info": {
   "codemirror_mode": {
    "name": "ipython",
    "version": 3
   },
   "file_extension": ".py",
   "mimetype": "text/x-python",
   "name": "python",
   "nbconvert_exporter": "python",
   "pygments_lexer": "ipython3",
   "version": "3.7.9"
  },
  "orig_nbformat": 4,
  "vscode": {
   "interpreter": {
    "hash": "c2eae4f751eff5ab2a394be4823427468fe69f4432d99d1754359392474473bf"
   }
  }
 },
 "nbformat": 4,
 "nbformat_minor": 2
}
