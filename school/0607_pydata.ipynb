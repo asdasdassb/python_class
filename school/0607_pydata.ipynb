{
 "cells": [
  {
   "cell_type": "code",
   "execution_count": 3,
   "metadata": {},
   "outputs": [
    {
     "name": "stdout",
     "output_type": "stream",
     "text": [
      "B0909014_曾薪翰\n",
      "[ 3  6 10 11 15 17 20 29 31 35 40 45 50 78 88 88]\n"
     ]
    }
   ],
   "source": [
    "import numpy as np\n",
    "print(\"B0909014_曾薪翰\")\n",
    "\n",
    "a = np.array([29, 17, 88, 6, 20, 45, 10, 3, 88, 50, 35, 40, 31, 11, 78, 15])\n",
    "\n",
    "sorted_a=np.sort(a,kind=\"quicksort\")\n",
    "print(sorted_a)\n"
   ]
  }
 ],
 "metadata": {
  "kernelspec": {
   "display_name": "Python 3.7.9 ('pythonenv')",
   "language": "python",
   "name": "python3"
  },
  "language_info": {
   "codemirror_mode": {
    "name": "ipython",
    "version": 3
   },
   "file_extension": ".py",
   "mimetype": "text/x-python",
   "name": "python",
   "nbconvert_exporter": "python",
   "pygments_lexer": "ipython3",
   "version": "3.7.9"
  },
  "orig_nbformat": 4,
  "vscode": {
   "interpreter": {
    "hash": "c2eae4f751eff5ab2a394be4823427468fe69f4432d99d1754359392474473bf"
   }
  }
 },
 "nbformat": 4,
 "nbformat_minor": 2
}
