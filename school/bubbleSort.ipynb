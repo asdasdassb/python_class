{
 "cells": [
  {
   "cell_type": "code",
   "execution_count": 51,
   "metadata": {},
   "outputs": [
    {
     "name": "stdout",
     "output_type": "stream",
     "text": [
      "B0909014\n"
     ]
    }
   ],
   "source": [
    "def bubbleSort(arr):\n",
    "    n = len(arr)\n",
    "    for i in range(n-1):\n",
    "        for j in range(0, n-i-1): \n",
    "            if arr[j] > arr[j + 1] :\n",
    "                arr[j], arr[j + 1] = arr[j + 1], arr[j]\n",
    "    for i in range(len(arr)):\n",
    "        print (\"% d\" % arr[i],end=\" \")\n",
    "print(\"B0909014\")"
   ]
  },
  {
   "cell_type": "code",
   "execution_count": 52,
   "metadata": {},
   "outputs": [
    {
     "name": "stdout",
     "output_type": "stream",
     "text": [
      "B0909014\n"
     ]
    }
   ],
   "source": [
    "\n",
    "def SelectionSort(A):\n",
    "    import sys\n",
    "    min_idx=0\n",
    "    cnt=0\n",
    "    for i in range(len(A)):        \n",
    "        min_idx = i\n",
    "        for j in range(i+1, len(A)):\n",
    "            if A[min_idx] > A[j]:\n",
    "                min_idx = j\n",
    "        \n",
    "        A[i], A[min_idx] = A[min_idx], A[i]\n",
    "    for i in range(len(arr)):\n",
    "        print (\"% d\" % arr[i],end=\" \")\n",
    "print(\"B0909014\") "
   ]
  },
  {
   "cell_type": "code",
   "execution_count": 53,
   "metadata": {},
   "outputs": [
    {
     "name": "stdout",
     "output_type": "stream",
     "text": [
      "B0909014\n"
     ]
    }
   ],
   "source": [
    "def insertionSort(arr):\n",
    "  \n",
    " \n",
    "    for i in range(1, len(arr)): \n",
    "        key = arr[i]  \n",
    "        j = i-1\n",
    "        while j >=0 and key < arr[j] :\n",
    "                arr[j+1] = arr[j]\n",
    "                j -= 1\n",
    "        arr[j+1] = key\n",
    "    for i in range(len(arr)):\n",
    "        print (\"% d\" % arr[i],end=\" \")\n",
    "print(\"B0909014\")"
   ]
  },
  {
   "cell_type": "code",
   "execution_count": 54,
   "metadata": {},
   "outputs": [
    {
     "name": "stdout",
     "output_type": "stream",
     "text": [
      "B0909014 曾薪翰\n",
      "insertionSort array is:\n",
      " 3  6  10  11  15  17  20  29  31  34  40  45  50  78  88 \u0000\n",
      "SelectionSor array is:\n",
      " 3  6  10  11  15  17  20  29  31  34  40  45  50  78  88 \u0000\n",
      "bubbleSort array is:\n",
      " 3  6  10  11  15  17  20  29  31  34  40  45  50  78  88 "
     ]
    }
   ],
   "source": [
    "arr = [34 , 17, 88, 6, 20, 45, 10, 3, 50, 29, 40, 31, 11, 78, 15]\n",
    "print(\"B0909014 曾薪翰\")\n",
    "print (\"insertionSort array is:\")\n",
    "insertionSort(arr)\n",
    "print(\"\\0\")\n",
    "print (\"SelectionSor array is:\")\n",
    "SelectionSort(arr)\n",
    "print(\"\\0\")\n",
    "print (\"bubbleSort array is:\")\n",
    "bubbleSort(arr)"
   ]
  }
 ],
 "metadata": {
  "interpreter": {
   "hash": "c2eae4f751eff5ab2a394be4823427468fe69f4432d99d1754359392474473bf"
  },
  "kernelspec": {
   "display_name": "Python 3.7.9 ('pythonenv')",
   "language": "python",
   "name": "python3"
  },
  "language_info": {
   "codemirror_mode": {
    "name": "ipython",
    "version": 3
   },
   "file_extension": ".py",
   "mimetype": "text/x-python",
   "name": "python",
   "nbconvert_exporter": "python",
   "pygments_lexer": "ipython3",
   "version": "3.7.9"
  },
  "orig_nbformat": 4
 },
 "nbformat": 4,
 "nbformat_minor": 2
}
