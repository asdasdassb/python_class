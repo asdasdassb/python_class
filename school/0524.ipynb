{
 "cells": [
  {
   "cell_type": "code",
   "execution_count": 2,
   "metadata": {},
   "outputs": [
    {
     "name": "stdout",
     "output_type": "stream",
     "text": [
      "b0909014\n",
      "                              12\n",
      "                              /\\\n",
      "                             /  \\\n",
      "                            /    \\\n",
      "                           /      \\\n",
      "                          /        \\\n",
      "                         /          \\\n",
      "                        /            \\\n",
      "                       /              \\\n",
      "                      /                \\\n",
      "                     /                  \\\n",
      "                    /                    \\\n",
      "                   /                      \\\n",
      "                  /                        \\\n",
      "                 /                          \\\n",
      "                /                            \\\n",
      "               /                              \\\n",
      "              8                               18\n",
      "              /\\                              / \n",
      "             /  \\                            /   \n",
      "            /    \\                          /     \n",
      "           /      \\                        /       \n",
      "          /        \\                      /         \n",
      "         /          \\                    /           \n",
      "        /            \\                  /             \n",
      "       /              \\                /               \n",
      "      5               11               17                \n",
      "      /\\                                                \n",
      "     /  \\                                                \n",
      "    /    \\                                                \n",
      "   /      \\                                                \n",
      "  4        7                                                \n",
      "  /                                                         \n",
      " /                                                           \n",
      "2                                                             \n",
      "start to balnace tree as AVL tree:\n",
      "              8 \n",
      "              /\\\n",
      "             /  \\\n",
      "            /    \\\n",
      "           /      \\\n",
      "          /        \\\n",
      "         /          \\\n",
      "        /            \\\n",
      "       /              \\\n",
      "      5               12\n",
      "      /\\              /\\\n",
      "     /  \\            /  \\\n",
      "    /    \\          /    \\\n",
      "   /      \\        /      \\\n",
      "  2        7      11      18\n",
      "   \\                      / \n",
      "    \\                    /   \n",
      "    4                   17    \n"
     ]
    }
   ],
   "source": [
    "#test tree\n",
    "print(\"b0909014\")\n",
    "from TreeAVL.AVL import AVL\n",
    "\n",
    "\n",
    "tree = AVL([12,8,18,5,11,17,4,7,2])\n",
    "print(tree)\n",
    "print(\"start to balnace tree as AVL tree:\")\n",
    "tree.BalanceTree()\n",
    "print(tree)"
   ]
  },
  {
   "cell_type": "code",
   "execution_count": 5,
   "metadata": {},
   "outputs": [
    {
     "name": "stdout",
     "output_type": "stream",
     "text": [
      "b0909014\n",
      "              11\n",
      "              /\\\n",
      "             /  \\\n",
      "            /    \\\n",
      "           /      \\\n",
      "          /        \\\n",
      "         /          \\\n",
      "        /            \\\n",
      "       /              \\\n",
      "      2               20\n",
      "      /\\              / \n",
      "     /  \\            /   \n",
      "    /    \\          /     \n",
      "   /      \\        /       \n",
      "  1        5       16        \n",
      "                   \\        \n",
      "                    \\        \n",
      "                    19        \n",
      "start to balnace tree as AVL tree:\n",
      "      11\n",
      "      /\\\n",
      "     /  \\\n",
      "    /    \\\n",
      "   /      \\\n",
      "  2       19\n",
      "  /\\      /\\\n",
      " /  \\    /  \\\n",
      "1    5  16  20\n"
     ]
    }
   ],
   "source": [
    "#test tree\n",
    "print(\"b0909053\")\n",
    "from TreeAVL.AVL import AVL\n",
    "\n",
    "\n",
    "tree = AVL([11,20,16,2,1,19,5])\n",
    "print(tree)\n",
    "print(\"start to balnace tree as AVL tree:\")\n",
    "tree.BalanceTree()\n",
    "print(tree)"
   ]
  }
 ],
 "metadata": {
  "interpreter": {
   "hash": "c2eae4f751eff5ab2a394be4823427468fe69f4432d99d1754359392474473bf"
  },
  "kernelspec": {
   "display_name": "Python 3.7.9 ('pythonenv')",
   "language": "python",
   "name": "python3"
  },
  "language_info": {
   "codemirror_mode": {
    "name": "ipython",
    "version": 3
   },
   "file_extension": ".py",
   "mimetype": "text/x-python",
   "name": "python",
   "nbconvert_exporter": "python",
   "pygments_lexer": "ipython3",
   "version": "3.7.9"
  },
  "orig_nbformat": 4
 },
 "nbformat": 4,
 "nbformat_minor": 2
}
