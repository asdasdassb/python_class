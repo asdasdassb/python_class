{
 "cells": [
  {
   "cell_type": "code",
   "execution_count": 1,
   "metadata": {},
   "outputs": [],
   "source": [
    "from tkinter import *\n",
    "from tkinter import messagebox\n",
    "import subprocess as sp"
   ]
  },
  {
   "cell_type": "code",
   "execution_count": 2,
   "metadata": {},
   "outputs": [],
   "source": [
    "path='C:/123/member.txt'\n",
    "lstProcess=[]"
   ]
  },
  {
   "cell_type": "code",
   "execution_count": 3,
   "metadata": {},
   "outputs": [],
   "source": [
    "def clear_entry():\n",
    "    ent1.delete(0,END)\n",
    "    ent2.delete(0,END)\n",
    "    ent3.delete(0,END)\n",
    "\n",
    "def pre_check():\n",
    "    if len(lstProcess) != 0:\n",
    "        lstProcess[0].terminate()\n",
    "        lstProcess.clear()\n",
    "\n",
    "    if len(ent1.get())==0 or len(ent2.get())==0 or len(ent3.get())==0 :\n",
    "        messagebox.showinfo('Error','帳號或密碼或電話為空請再輸入一次',icon='error')\n",
    "        clear_entry()\n",
    "        return 1\n",
    "\n",
    "    return 0\n",
    "\n",
    "def write_file(path):\n",
    "    f=open(path,'w')\n",
    "    print(ent1.get(),ent2.get(),ent3.get())\n",
    "    f.write(ent1.get()+\"\\n\")\n",
    "    f.write(ent2.get()+\"\\n\")\n",
    "    f.write(ent3.get()+\"\\n\")\n",
    "    f.close()\n",
    "\n",
    "def create_notepad(path):\n",
    "    programName = \"notepad.exe\"\n",
    "    p = sp.Popen([programName, path])\n",
    "    lstProcess.append(p)\n",
    "\n",
    "def printinfo():\n",
    "    val = pre_check()\n",
    "    if val == 1:\n",
    "        return\n",
    "\n",
    "    write_file(path)\n",
    "\n",
    "    clear_entry()\n",
    "\n",
    "    create_notepad(path)\n",
    "\n",
    "def key_pressed(event):\n",
    "    #print(\"Key Pressed:\"+event.keysym)\n",
    "    printinfo()\n",
    "        "
   ]
  },
  {
   "cell_type": "code",
   "execution_count": 5,
   "metadata": {},
   "outputs": [
    {
     "name": "stdout",
     "output_type": "stream",
     "text": [
      "B0909014 ASDASD ASD\n",
      "B0909014 T125981067 HAN\n"
     ]
    }
   ],
   "source": [
    "win1=Tk()\n",
    "win1.title(\"LOGIN\")\n",
    "win1.geometry(\"350x130\")\n",
    "win1.bind(\"<Return>\",key_pressed)\n",
    "\n",
    "Label1=Label(win1,text=\"帳號\",font=\"Arial 15\",width=8,bg=\"lightyellow\")\n",
    "Label2=Label(win1,text=\"密碼\",font=\"Arial 15\",width=8,bg=\"lightyellow\")\n",
    "Label3=Label(win1,text=\"使用者名稱\",font=\"Arial 14\",width=8,bg=\"lightyellow\")\n",
    "\n",
    "\n",
    "ent1=Entry(win1)\n",
    "ent2=Entry(win1,show='*')\n",
    "ent3=Entry(win1)\n",
    "\n",
    "btn1=Button(win1,text=\"確認\",font=\"Arial 15\",width=8,command=printinfo)\n",
    "btn2=Button(win1,text=\"結束\",font=\"Arial 15\",width=8,command=win1.destroy)\n",
    "\n",
    "Label1.grid(column=0,row=0)\n",
    "Label2.grid(column=0,row=1)\n",
    "Label3.grid(column=0,row=2)\n",
    "\n",
    "\n",
    "ent1.grid(column=1,row=0)\n",
    "ent2.grid(column=1,row=1)\n",
    "ent3.grid(column=1,row=2)\n",
    "\n",
    "btn1.grid(column=0,row=3)\n",
    "btn2.grid(column=1,row=3)\n",
    "\n",
    "win1.mainloop()"
   ]
  },
  {
   "cell_type": "code",
   "execution_count": null,
   "metadata": {},
   "outputs": [],
   "source": []
  }
 ],
 "metadata": {
  "interpreter": {
   "hash": "c2eae4f751eff5ab2a394be4823427468fe69f4432d99d1754359392474473bf"
  },
  "kernelspec": {
   "display_name": "Python 3.7.9 ('pythonenv')",
   "language": "python",
   "name": "python3"
  },
  "language_info": {
   "codemirror_mode": {
    "name": "ipython",
    "version": 3
   },
   "file_extension": ".py",
   "mimetype": "text/x-python",
   "name": "python",
   "nbconvert_exporter": "python",
   "pygments_lexer": "ipython3",
   "version": "3.7.9"
  },
  "orig_nbformat": 4
 },
 "nbformat": 4,
 "nbformat_minor": 2
}
