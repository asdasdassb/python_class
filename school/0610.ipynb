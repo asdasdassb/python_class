{
 "cells": [
  {
   "cell_type": "code",
   "execution_count": 13,
   "metadata": {},
   "outputs": [],
   "source": [
    "import requests\n",
    "from bs4 import BeautifulSoup\n",
    "from selenium import webdriver\n",
    "from selenium.webdriver.common.by import By"
   ]
  },
  {
   "cell_type": "code",
   "execution_count": 5,
   "metadata": {},
   "outputs": [
    {
     "name": "stdout",
     "output_type": "stream",
     "text": [
      "Google\n"
     ]
    }
   ],
   "source": [
    "web1=driver=webdriver.Chrome(\"chromedriver\")\n",
    "url=\"http://www.google.com\"\n",
    "web1.get(url)\n",
    "print(web1.title)"
   ]
  },
  {
   "cell_type": "code",
   "execution_count": 17,
   "metadata": {},
   "outputs": [
    {
     "name": "stdout",
     "output_type": "stream",
     "text": [
      "Yahoo奇摩\n"
     ]
    }
   ],
   "source": [
    "web1 = webdriver.Edge('msedgedriver')\n",
    "url = 'https://tw.yahoo.com/'\n",
    "web1.get(url)\n",
    "web1.implicitly_wait(50)\n",
    "print(web1.title)\n",
    "#print(web1.page_source)\n",
    "#web1.quit()\n",
    "\n",
    "soup = BeautifulSoup(web1.page_source, 'lxml')\n",
    "#print(soup.prettify())\n",
    "\n",
    "fill1 = web1.find_element(by=By.NAME, value='p')\n",
    "fill1.send_keys('最近電影')\n",
    "#button1 = web1.find_element_by_name('btnK')\n",
    "button1 = web1.find_element(by=By.ID,value='header-desktop-search-button')\n",
    "\n",
    "button1.click()\n"
   ]
  }
 ],
 "metadata": {
  "interpreter": {
   "hash": "c2eae4f751eff5ab2a394be4823427468fe69f4432d99d1754359392474473bf"
  },
  "kernelspec": {
   "display_name": "Python 3.7.9 ('pythonenv')",
   "language": "python",
   "name": "python3"
  },
  "language_info": {
   "codemirror_mode": {
    "name": "ipython",
    "version": 3
   },
   "file_extension": ".py",
   "mimetype": "text/x-python",
   "name": "python",
   "nbconvert_exporter": "python",
   "pygments_lexer": "ipython3",
   "version": "3.7.9"
  },
  "orig_nbformat": 4
 },
 "nbformat": 4,
 "nbformat_minor": 2
}
