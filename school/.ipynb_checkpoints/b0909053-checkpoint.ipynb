{
 "cells": [
  {
   "cell_type": "code",
   "execution_count": 8,
   "metadata": {},
   "outputs": [],
   "source": [
    "from bs4 import BeautifulSoup\n",
    "import cfscrape"
   ]
  },
  {
   "cell_type": "code",
   "execution_count": 16,
   "metadata": {},
   "outputs": [
    {
     "name": "stdout",
     "output_type": "stream",
     "text": [
      "中時新聞網熱門列表標題\n",
      "標題:高虹安遭藍綠夾殺最新民調嚇死人 他直接宣布：選舉結束！\n",
      "標題:陳時中微醺照流出？「時」指緊扣摟人妻 徐巧芯轟：鹹豬手\n",
      "標題:破400不忍了！台積電大反擊 1戰略舉動震撼市場\n",
      "標題:她逛好市多頭痛到想吐 原因引千人共鳴：逛半圈就開始暈\n",
      "標題:看CNN報導慕名來台 藍眼正妹被台人感動到哭：在美國不可能\n",
      "標題:嗆唐寶寶「管你什麼症」報警抓人 炸物店老闆遭肉搜 驚人背景曝光\n",
      "標題:強迫威廉、哈利這樣做 查爾斯超後悔\n",
      "標題:槓炸物店老闆 唐寶寶媽「曾遭棄養」 超狂背景曝\n",
      "標題:F4男星偷吃人妻遭封殺 沉寂5年「與爸媽賣餃子」現況曝光\n",
      "標題:電視辯論一題目做球給陳時中？蔣萬安犀利一席話反把他電爆\n",
      "標題:陳時中陣營批「摟人妻照」是奧步 徐巧芯5點反擊：歡迎來告\n",
      "標題:炸物店老闆揚言提告 唐寶寶母親現身這樣說\n",
      "標題:王金平指柯志恩參選「沒魚，蝦也好」柯志恩這麼回應\n",
      "標題:秒懂！炸物店老闆私下為人曝光 隔壁店家只願吐一句\n",
      "標題:辯論後最新台北市長民調 35％認為他表現最好、支持度居冠\n",
      "標題:炸物店開吉了！老闆擬告唐寶寶母親妨害名譽\n",
      "標題:木村拓哉扮信長遊行1小時「狂吸39億」60萬人潮日警剉勒等\n"
     ]
    }
   ],
   "source": [
    "from bs4 import BeautifulSoup\n",
    "import cfscrape\n",
    "\n",
    "scraper=cfscrape.create_scraper()\n",
    "result=scraper.get('https://www.chinatimes.com/hotnews?chdtv')\n",
    "soup=BeautifulSoup(result.text,\"html.parser\")\n",
    "titles=soup.find_all(\"h3\",attrs={\"class\":\"title\"})\n",
    "\n",
    "print('中時新聞網熱門列表標題')\n",
    "for a in titles:\n",
    "    print(\"標題:\"+a.text.strip())"
   ]
  }
 ],
 "metadata": {
  "kernelspec": {
   "display_name": "Python 3 (ipykernel)",
   "language": "python",
   "name": "python3"
  },
  "language_info": {
   "codemirror_mode": {
    "name": "ipython",
    "version": 3
   },
   "file_extension": ".py",
   "mimetype": "text/x-python",
   "name": "python",
   "nbconvert_exporter": "python",
   "pygments_lexer": "ipython3",
   "version": "3.9.13"
  },
  "vscode": {
   "interpreter": {
    "hash": "ea5ed8d958357c2470f581273987b29616552e3c4a591266718feea6dfbe1297"
   }
  }
 },
 "nbformat": 4,
 "nbformat_minor": 2
}
