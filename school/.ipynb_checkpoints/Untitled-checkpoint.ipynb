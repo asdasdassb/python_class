{
 "cells": [
  {
   "cell_type": "code",
   "execution_count": null,
   "metadata": {},
   "outputs": [],
   "source": []
  }
 ],
 "metadata": {
  "kernelspec": {
   "display_name": "Python 3.7.9 ('pythonenv')",
   "language": "python",
   "name": "python3"
  },
  "language_info": {
   "name": "python",
   "version": "3.7.9"
  },
  "vscode": {
   "interpreter": {
    "hash": "c2eae4f751eff5ab2a394be4823427468fe69f4432d99d1754359392474473bf"
   }
  }
 },
 "nbformat": 4,
 "nbformat_minor": 4
}
