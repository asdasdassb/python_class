{
 "cells": [
  {
   "cell_type": "code",
   "execution_count": 2,
   "metadata": {},
   "outputs": [],
   "source": [
    "import math"
   ]
  },
  {
   "cell_type": "code",
   "execution_count": null,
   "metadata": {},
   "outputs": [],
   "source": [
    "class TreeNode():\n",
    "\n",
    "    def __init__(self, data):\n",
    "        self.leftNode=None\n",
    "        self.rightNode=None\n",
    "        self.data=data\n",
    "        self.height=0\n",
    "    \n",
    "    def getLeftNode(self):\n",
    "        return self.leftNode\n",
    "    \n",
    "    def setLeftNode(self,leftNode):\n",
    "        self.leftNode=leftNode\n",
    "    \n",
    "    def getRightNode(self):\n",
    "        return self.rightNode\n",
    "    \n",
    "    def setRightNode(self,rightNode):\n",
    "        self.rightNode=rightNode\n",
    "\n",
    "    def getData(self):\n",
    "        return self.data\n",
    "    \n",
    "    def setData(self,data):\n",
    "        self.data=data\n",
    "    \n",
    "    def getHeight(self):\n",
    "        return self.height\n",
    "\n",
    "    def setHeight(self,height):\n",
    "        self.height=height\n",
    "\n",
    "    \n"
   ]
  },
  {
   "cell_type": "code",
   "execution_count": null,
   "metadata": {},
   "outputs": [],
   "source": [
    "class AvlTree():\n",
    "    root=None\n",
    "    def __init__(self):\n",
    "        pass\n",
    "\n",
    "    def getRoot(self):\n",
    "        return self.root\n",
    "\n",
    "    def traverse(self):\n",
    "        print(\"Traversing the tree:\")\n",
    "        self._traverse(self.getRoot())\n",
    "    \n",
    "    def _traverse(self, node: TreeNode):\n",
    "        if node == None:\n",
    "            return \n",
    "        self._traverse(node.getLeftNode())\n",
    "        print( \" -> \" + node.getData())\n",
    "        self._traverse(node.getRightNode())\n",
    "\n",
    "    def getNodeHeight(self, node: TreeNode):\n",
    "        if node==None:\n",
    "            return -1\n",
    "        return node.getHeight()\n",
    "\n",
    "    def updateNodeHeight(self, node: TreeNode):\n",
    "        if node==None:\n",
    "            return\n",
    "        node.setHeight(max(self.getNodeHeight(node.getLeftNode()),self.getNodeHeight(node.getRightNode()))+1)\n",
    "    \n",
    "    def getBalanceFactor(self, node: TreeNode):\n",
    "        if node==None:\n",
    "            return 0\n",
    "        return self.getNodeHeight(node.getLeftNode()) - self.getNodeHeight(node.getRightNode())\n",
    "        \n"
   ]
  }
 ],
 "metadata": {
  "interpreter": {
   "hash": "c2eae4f751eff5ab2a394be4823427468fe69f4432d99d1754359392474473bf"
  },
  "kernelspec": {
   "display_name": "Python 3.7.9 ('pythonenv')",
   "language": "python",
   "name": "python3"
  },
  "language_info": {
   "codemirror_mode": {
    "name": "ipython",
    "version": 3
   },
   "file_extension": ".py",
   "mimetype": "text/x-python",
   "name": "python",
   "nbconvert_exporter": "python",
   "pygments_lexer": "ipython3",
   "version": "3.7.9"
  },
  "orig_nbformat": 4
 },
 "nbformat": 4,
 "nbformat_minor": 2
}
