{
 "cells": [
  {
   "cell_type": "code",
   "execution_count": 2,
   "metadata": {},
   "outputs": [],
   "source": [
    "from bs4 import BeautifulSoup"
   ]
  },
  {
   "cell_type": "code",
   "execution_count": 3,
   "metadata": {},
   "outputs": [
    {
     "name": "stdout",
     "output_type": "stream",
     "text": [
      "[<p> B0909014_曾薪翰 \n",
      "\n",
      "\n",
      "</p>, <p>這是標籤測試1</p>, <p>這是標籤測試2</p>]\n",
      "<h1> 這是測試 HAN 123 0527 </h1>\n"
     ]
    }
   ],
   "source": [
    "path1=\"C:/123/b0909014.html\"\n",
    "with open(path1,'r',encoding='utf8') as fp:\n",
    "    soup=BeautifulSoup(fp,\"lxml\")\n",
    "\n",
    "tagp=soup.find_all('p')\n",
    "tagh=soup.find('h1')\n",
    "print(tagp)\n",
    "print(tagh)\n",
    "#print(soup.prettify())"
   ]
  },
  {
   "cell_type": "markdown",
   "metadata": {},
   "source": [
    "find_all\n"
   ]
  },
  {
   "cell_type": "code",
   "execution_count": 6,
   "metadata": {},
   "outputs": [
    {
     "name": "stdout",
     "output_type": "stream",
     "text": [
      "[<p> B0909014_曾薪翰 \n",
      "\n",
      "\n",
      "</p>, <p>這是標籤測試1</p>, <p>這是標籤測試2</p>]\n",
      "\n",
      "[問題] 開車打發時間的遊戲\n",
      "\n",
      "\n",
      "Re: [心得] DIY變速箱翻修-BMW E60\n",
      "\n",
      "\n",
      "[公告] Car板板規 2020/12/14 板規修正\n",
      "\n",
      "\n",
      "[整理] 50-150萬新車ADAS先進駕駛輔助系統\n",
      "\n",
      "\n",
      "[公告] 5-2板規修正，以及1-8裁決升級\n",
      "\n"
     ]
    }
   ],
   "source": [
    "#B0909014\n",
    "import requests\n",
    "url1 = \"https://www.ptt.cc/bbs/car/index.html\"\n",
    "r=requests.get(url1)\n",
    "#print(r.text)\n",
    "\n",
    "\n",
    "soup=BeautifulSoup(r.text,\"lxml\")\n",
    "#print(soup)\n",
    "tagas=soup.find_all(class_=\"title\")\n",
    "\n",
    "print(tagp)\n",
    "\n",
    "for taga in tagas:\n",
    "    print(taga.text)\n",
    "\n",
    "#print(soup.prettify())\n"
   ]
  }
 ],
 "metadata": {
  "interpreter": {
   "hash": "c2eae4f751eff5ab2a394be4823427468fe69f4432d99d1754359392474473bf"
  },
  "kernelspec": {
   "display_name": "Python 3.7.9 ('pythonenv')",
   "language": "python",
   "name": "python3"
  },
  "language_info": {
   "codemirror_mode": {
    "name": "ipython",
    "version": 3
   },
   "file_extension": ".py",
   "mimetype": "text/x-python",
   "name": "python",
   "nbconvert_exporter": "python",
   "pygments_lexer": "ipython3",
   "version": "3.7.9"
  },
  "orig_nbformat": 4
 },
 "nbformat": 4,
 "nbformat_minor": 2
}
