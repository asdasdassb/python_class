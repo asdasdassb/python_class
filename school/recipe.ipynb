{
 "cells": [
  {
   "cell_type": "code",
   "execution_count": 2,
   "metadata": {},
   "outputs": [],
   "source": [
    "from bs4 import BeautifulSoup\n",
    "import cfscrape\n",
    "from datetime import datetime"
   ]
  },
  {
   "cell_type": "code",
   "execution_count": 3,
   "metadata": {},
   "outputs": [
    {
     "name": "stdout",
     "output_type": "stream",
     "text": [
      "目前icook網站上的人氣食譜\n",
      "查詢時間為2022-11-07 01:29:05 AM\n",
      "標題:蜂蜜奶油餐包\n",
      "標題:南瓜香菇雞肉炊飯\n",
      "標題:輕鬆上手的可樂滷肉/滷肉\n",
      "標題:奶油蒜燒蝦仁\n",
      "標題:蒜香五花肉\n",
      "標題:懶人料理：好下飯的醬燒豆包\n",
      "標題:大理石蛋糕（容易操作）\n",
      "標題:家常蘿蔔糕\n",
      "標題:鮮菇鱸魚湯~乳白色湯頭\n",
      "標題:三杯雞煲飯\n",
      "標題:鹹蛋蝦仁豆腐煲\n",
      "標題:腐皮珍菇捲(純素)\n",
      "標題:軟酪--復刻古代小點心\n",
      "標題:南瓜蒸蛋\n",
      "標題:小西點牛粒 - 台式馬卡龍\n",
      "標題:清爽版打拋豬 (用果醋取代魚露)\n",
      "標題:乾煸三層肉\n",
      "標題:兩步驟「巧克力麻糬麵包」外酥內Q好好吃~\n"
     ]
    }
   ],
   "source": [
    "localtime = datetime.now().strftime(\"%Y-%m-%d %H:%M:%S %p\")\n",
    "for i in range(1,4):\n",
    "    scraper=cfscrape.create_scraper()\n",
    "    result=scraper.get('https://icook.tw/recipes/popular?page')\n",
    "    soup=BeautifulSoup(result.text,\"html.parser\")\n",
    "    titles=soup.find_all(\"h2\",attrs={\"class\":\"browse-recipe-name\"})\n",
    "\n",
    "print('目前icook網站上的人氣食譜'+'\\n'+'查詢時間為'+localtime)\n",
    "for s in titles:\n",
    "    print(\"標題:\"+s.text.strip())\n"
   ]
  }
 ],
 "metadata": {
  "kernelspec": {
   "display_name": "Python 3.9.13 ('pythonenv')",
   "language": "python",
   "name": "python3"
  },
  "language_info": {
   "codemirror_mode": {
    "name": "ipython",
    "version": 3
   },
   "file_extension": ".py",
   "mimetype": "text/x-python",
   "name": "python",
   "nbconvert_exporter": "python",
   "pygments_lexer": "ipython3",
   "version": "3.9.13"
  },
  "orig_nbformat": 4,
  "vscode": {
   "interpreter": {
    "hash": "ea5ed8d958357c2470f581273987b29616552e3c4a591266718feea6dfbe1297"
   }
  }
 },
 "nbformat": 4,
 "nbformat_minor": 2
}
