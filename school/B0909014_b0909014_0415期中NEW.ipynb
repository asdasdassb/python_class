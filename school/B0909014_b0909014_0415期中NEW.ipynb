{
 "cells": [
  {
   "cell_type": "code",
   "execution_count": 1,
   "metadata": {},
   "outputs": [
    {
     "name": "stdout",
     "output_type": "stream",
     "text": [
      "在函式外\n"
     ]
    }
   ],
   "source": [
    "def w1():\n",
    "    print(\"今天25度\")\n",
    "    print(\"天氣很不錯\")\n",
    "print(\"在函式外\")"
   ]
  },
  {
   "cell_type": "code",
   "execution_count": 2,
   "metadata": {},
   "outputs": [
    {
     "name": "stdout",
     "output_type": "stream",
     "text": [
      "今天25度\n",
      "天氣很不錯\n"
     ]
    }
   ],
   "source": [
    "w1()"
   ]
  },
  {
   "cell_type": "code",
   "execution_count": 4,
   "metadata": {},
   "outputs": [
    {
     "name": "stdout",
     "output_type": "stream",
     "text": [
      "輸入一個值5\n",
      "25\n"
     ]
    }
   ],
   "source": [
    "def m2(x):\n",
    "    y=x*x\n",
    "    return y\n",
    "b=int(input(\"輸入一個值\"))\n",
    "a=m2(b)\n",
    "print(a)"
   ]
  },
  {
   "cell_type": "code",
   "execution_count": 5,
   "metadata": {},
   "outputs": [
    {
     "name": "stdout",
     "output_type": "stream",
     "text": [
      "4.47213595499958\n"
     ]
    }
   ],
   "source": [
    "import math\n",
    "p=[3,3]\n",
    "d=[5,7]\n",
    "ans=math.dist(p,d)\n",
    "print(ans)"
   ]
  },
  {
   "cell_type": "code",
   "execution_count": 6,
   "metadata": {},
   "outputs": [],
   "source": [
    "import math\n",
    "\n",
    "def dist1(x1,y1,x2,y2):\n",
    "    ans=math.dist([x1,y1],[x2,y2])\n",
    "    return ans"
   ]
  },
  {
   "cell_type": "code",
   "execution_count": 7,
   "metadata": {},
   "outputs": [
    {
     "data": {
      "text/plain": [
       "6.4031242374328485"
      ]
     },
     "execution_count": 7,
     "metadata": {},
     "output_type": "execute_result"
    }
   ],
   "source": [
    "dist1(3,5,8,9)\n"
   ]
  },
  {
   "cell_type": "code",
   "execution_count": 18,
   "metadata": {},
   "outputs": [],
   "source": [
    "def bmical(name1,h,m):\n",
    "    \n",
    "    bmi=m/(h/100)**2\n",
    "    \n",
    "    print(\"您現在bmi為:\",round(bmi,1))\n",
    "    if bmi>=25.5:\n",
    "        print(name1,\"老鐵你該減肥了\")\n",
    "    elif bmi>=18.5 and bmi<=25.5:\n",
    "        print(name1,\"老鐵你很正常\")\n",
    "    elif bmi<=18.5:\n",
    "        print(name1,\"老鐵你吃太少搂\")\n",
    "    return round(bmi,1)\n",
    "\n",
    "   \n",
    "\n",
    "   \n",
    "\n",
    "    "
   ]
  },
  {
   "cell_type": "code",
   "execution_count": 19,
   "metadata": {},
   "outputs": [
    {
     "name": "stdout",
     "output_type": "stream",
     "text": [
      "輸入名字:369\n",
      "請輸入身高:176\n",
      "請輸入體重:55\n",
      "您現在bmi為: 17.8\n",
      "369 老鐵你吃太少搂\n"
     ]
    },
    {
     "data": {
      "text/plain": [
       "17.8"
      ]
     },
     "execution_count": 19,
     "metadata": {},
     "output_type": "execute_result"
    }
   ],
   "source": [
    "name=input(\"輸入名字:\")\n",
    "hight=int(input(\"請輸入身高:\"))\n",
    "weight=float(input(\"請輸入體重:\"))\n",
    "bmical(name,hight,weight)"
   ]
  },
  {
   "cell_type": "code",
   "execution_count": 18,
   "metadata": {},
   "outputs": [
    {
     "name": "stdout",
     "output_type": "stream",
     "text": [
      "輸入名字:0\n",
      "輸入小於99的年紀:9\n",
      "輸入名字:1\n",
      "輸入小於99的年紀:15\n",
      "輸入名字:2\n",
      "輸入小於99的年紀:25\n",
      "輸入名字:3\n",
      "輸入小於99的年紀:35\n",
      "輸入名字:4\n",
      "輸入小於99的年紀:45\n",
      "輸入名字:5\n",
      "輸入小於99的年紀:55\n",
      "輸入名字:6\n",
      "輸入小於99的年紀:65\n",
      "輸入名字:7\n",
      "輸入小於99的年紀:75\n",
      "輸入名字:8\n",
      "輸入小於99的年紀:85\n",
      "輸入名字:9\n",
      "輸入小於99的年紀:95\n",
      "輸入名字:-1\n",
      "{'0': 9, '1': 15, '2': 25, '3': 35, '4': 45, '5': 55, '6': 65, '7': 75, '8': 85, '9': 95}\n"
     ]
    }
   ],
   "source": [
    "\n",
    "user={}\n",
    "interval={}\n",
    "\n",
    "while(True):\n",
    "    name=input(\"輸入名字:\")\n",
    "    if name==\"-1\":\n",
    "        break\n",
    "    else:        \n",
    "        age=int(input(\"輸入小於99的年紀:\"))\n",
    "        if age>=100:\n",
    "            print(\"不要皮\")\n",
    "            continue\n",
    "        user[name]=age\n",
    "    \n",
    "print(user)  "
   ]
  },
  {
   "cell_type": "code",
   "execution_count": 19,
   "metadata": {},
   "outputs": [
    {
     "data": {
      "text/plain": [
       "[1, 1, 1, 1, 1, 1, 1, 1, 1, 1]"
      ]
     },
     "execution_count": 19,
     "metadata": {},
     "output_type": "execute_result"
    }
   ],
   "source": [
    "#a=[0,0,0,0,0,0,0,0,0,0]\n",
    "a = [0]*10\n",
    "for agei in user.values() :\n",
    "    ans=0\n",
    "    ans=int(agei/10)\n",
    "    a[ans]+=1\n",
    "a\n",
    "    "
   ]
  },
  {
   "cell_type": "code",
   "execution_count": 20,
   "metadata": {},
   "outputs": [
    {
     "name": "stdout",
     "output_type": "stream",
     "text": [
      "輸入名字:-1\n",
      "{'0': 9, '1': 15, '2': 25, '3': 35, '4': 45, '5': 55, '6': 65, '7': 75, '8': 85, '9': 95}\n"
     ]
    }
   ],
   "source": [
    "while(True):\n",
    "    name=input(\"輸入名字:\")\n",
    "    if name==\"-1\":\n",
    "        break     \n",
    "    age=input(\"輸入年紀:\")\n",
    "    user[name]=age\n",
    "print(user)\n"
   ]
  },
  {
   "cell_type": "code",
   "execution_count": 29,
   "metadata": {},
   "outputs": [
    {
     "data": {
      "image/png": "[encoded data removed]",
      "text/plain": [
       "<Figure size 432x288 with 1 Axes>"
      ]
     },
     "metadata": {
      "needs_background": "light"
     },
     "output_type": "display_data"
    }
   ],
   "source": [
    "import matplotlib.pyplot as plt\n",
    "left = list(range(0,10))\n",
    "height = a\n",
    "labels = list(range(0,10))\n",
    "bar1 = plt.bar(left, height, tick_label=labels)\n",
    "plt.legend(['People Count'],loc='best')   \n",
    "plt.show()"
   ]
  },
  {
   "cell_type": "code",
   "execution_count": 32,
   "metadata": {},
   "outputs": [
    {
     "data": {
      "image/png": "[encoded data removed]",
      "text/plain": [
       "<Figure size 432x288 with 1 Axes>"
      ]
     },
     "metadata": {},
     "output_type": "display_data"
    }
   ],
   "source": [
    "plt.pie(a,                           # 數值\n",
    "        labels = labels,                # 標籤\n",
    "        autopct = \"%1.1f%%\",            # 將數值百分比並留到小數點一位\n",
    "        #explode = separeted,            # 設定分隔的區塊位置\n",
    "        #pctdistance = 0.6,              # 數字距圓心的距離\n",
    "        textprops = {\"fontsize\" : 12},  # 文字大小\n",
    "        shadow=True)                    # 設定陰影\n",
    "\n",
    " \n",
    "plt.axis('equal')                                          # 使圓餅圖比例相等\n",
    "#plt.title(\"Pie chart of car accident\", {\"fontsize\" : 18})  # 設定標題及其文字大小\n",
    "plt.legend(loc = \"best\")   \n",
    "plt.show()"
   ]
  },
  {
   "cell_type": "code",
   "execution_count": null,
   "metadata": {},
   "outputs": [],
   "source": []
  }
 ],
 "metadata": {
  "kernelspec": {
   "display_name": "Python 3",
   "language": "python",
   "name": "python3"
  },
  "language_info": {
   "codemirror_mode": {
    "name": "ipython",
    "version": 3
   },
   "file_extension": ".py",
   "mimetype": "text/x-python",
   "name": "python",
   "nbconvert_exporter": "python",
   "pygments_lexer": "ipython3",
   "version": "3.7.9"
  }
 },
 "nbformat": 4,
 "nbformat_minor": 4
}
